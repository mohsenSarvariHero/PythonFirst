{
  "nbformat": 4,
  "nbformat_minor": 0,
  "metadata": {
    "colab": {
      "provenance": [],
      "authorship_tag": "ABX9TyO4vIPi2z9zl8ey9wuCm4hA",
      "include_colab_link": true
    },
    "kernelspec": {
      "name": "python3",
      "display_name": "Python 3"
    },
    "language_info": {
      "name": "python"
    }
  },
  "cells": [
    {
      "cell_type": "markdown",
      "metadata": {
        "id": "view-in-github",
        "colab_type": "text"
      },
      "source": [
        "<a href=\"https://colab.research.google.com/github/mohsenSarvariHero/PythonFirst/blob/main/Q10_hw3.ipynb\" target=\"_parent\"><img src=\"https://colab.research.google.com/assets/colab-badge.svg\" alt=\"Open In Colab\"/></a>"
      ]
    },
    {
      "cell_type": "code",
      "execution_count": 1,
      "metadata": {
        "colab": {
          "base_uri": "https://localhost:8080/"
        },
        "id": "Tk0VDxqupwRL",
        "outputId": "4bdcc23f-7654-4d79-f8c2-5b64a884878f"
      },
      "outputs": [
        {
          "output_type": "execute_result",
          "data": {
            "text/plain": [
              "{'Z-Interval (Known σ)': (1.8650812194228257, 2.4308740864609115),\n",
              " 'Z-Interval (Unknown σ, s)': (1.9374345047303052, 2.358520801153432),\n",
              " 'T-Interval (Unknown σ, s)': (1.9115435406693704, 2.3844117652143666)}"
            ]
          },
          "metadata": {},
          "execution_count": 1
        }
      ],
      "source": [
        "# Importing necessary libraries\n",
        "import numpy as np\n",
        "from scipy.stats import norm, t\n",
        "\n",
        "# Given parameters\n",
        "population_mean = 2  # Population mean (μ)\n",
        "population_std = 0.5  # Known population standard deviation (σ)\n",
        "sample_size = 12  # Sample size (n)\n",
        "confidence_level = 0.95  # Confidence level\n",
        "\n",
        "# Generate a random sample from the population (for case of unknown variance)\n",
        "np.random.seed(42)\n",
        "sample = np.random.normal(population_mean, population_std, sample_size)\n",
        "\n",
        "# Calculate sample mean and sample standard deviation\n",
        "sample_mean = np.mean(sample)\n",
        "sample_std = np.std(sample, ddof=1)\n",
        "\n",
        "# Z-Interval (Known population standard deviation, σ)\n",
        "z_alpha_2 = norm.ppf(1 - (1 - confidence_level) / 2)\n",
        "z_margin_of_error = z_alpha_2 * (population_std / np.sqrt(sample_size))\n",
        "z_lower_bound = sample_mean - z_margin_of_error\n",
        "z_upper_bound = sample_mean + z_margin_of_error\n",
        "\n",
        "# Z-Interval (Unknown population standard deviation, s)\n",
        "z_margin_of_error_s = z_alpha_2 * (sample_std / np.sqrt(sample_size))\n",
        "z_lower_bound_s = sample_mean - z_margin_of_error_s\n",
        "z_upper_bound_s = sample_mean + z_margin_of_error_s\n",
        "\n",
        "# T-Interval (Unknown population standard deviation, s)\n",
        "t_alpha_2 = t.ppf(1 - (1 - confidence_level) / 2, df=sample_size - 1)\n",
        "t_margin_of_error = t_alpha_2 * (sample_std / np.sqrt(sample_size))\n",
        "t_lower_bound = sample_mean - t_margin_of_error\n",
        "t_upper_bound = sample_mean + t_margin_of_error\n",
        "\n",
        "# Results\n",
        "confidence_intervals = {\n",
        "    \"Z-Interval (Known σ)\": (z_lower_bound, z_upper_bound),\n",
        "    \"Z-Interval (Unknown σ, s)\": (z_lower_bound_s, z_upper_bound_s),\n",
        "    \"T-Interval (Unknown σ, s)\": (t_lower_bound, t_upper_bound)\n",
        "}\n",
        "\n",
        "confidence_intervals\n"
      ]
    }
  ]
}