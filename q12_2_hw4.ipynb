{
  "nbformat": 4,
  "nbformat_minor": 0,
  "metadata": {
    "colab": {
      "provenance": [],
      "authorship_tag": "ABX9TyO3U+snS502lj7KrOHF6z9F",
      "include_colab_link": true
    },
    "kernelspec": {
      "name": "python3",
      "display_name": "Python 3"
    },
    "language_info": {
      "name": "python"
    }
  },
  "cells": [
    {
      "cell_type": "markdown",
      "metadata": {
        "id": "view-in-github",
        "colab_type": "text"
      },
      "source": [
        "<a href=\"https://colab.research.google.com/github/mohsenSarvariHero/PythonFirst/blob/main/q12_2_hw4.ipynb\" target=\"_parent\"><img src=\"https://colab.research.google.com/assets/colab-badge.svg\" alt=\"Open In Colab\"/></a>"
      ]
    },
    {
      "cell_type": "code",
      "execution_count": 1,
      "metadata": {
        "colab": {
          "base_uri": "https://localhost:8080/"
        },
        "id": "QgramJWZtaWo",
        "outputId": "d5990eb7-770f-49d3-c370-c8182e4c898d"
      },
      "outputs": [
        {
          "output_type": "execute_result",
          "data": {
            "text/plain": [
              "(284.75, 285.9375)"
            ]
          },
          "metadata": {},
          "execution_count": 1
        }
      ],
      "source": [
        "import numpy as np\n",
        "\n",
        "# Dataset\n",
        "data = [220, 225, 230, 240, 250, 260, 270, 275, 280, 285,\n",
        "        290, 295, 300, 310, 315, 320, 325, 330, 335, 340]\n",
        "\n",
        "# Arithmetic Mean\n",
        "arithmetic_mean = np.mean(data)\n",
        "\n",
        "# 10% Trimmed Mean\n",
        "n = len(data)\n",
        "trim_count = int(0.1 * n)  # 10% of the total data\n",
        "trimmed_data = sorted(data)[trim_count:-trim_count]\n",
        "trimmed_mean = np.mean(trimmed_data)\n",
        "\n",
        "arithmetic_mean, trimmed_mean\n"
      ]
    },
    {
      "cell_type": "markdown",
      "source": [
        "\n",
        "# New Section\n",
        "**12-3**"
      ],
      "metadata": {
        "id": "_noTRlC1unh0"
      }
    },
    {
      "cell_type": "code",
      "source": [
        "# Original dataset\n",
        "data = [220, 225, 230, 240, 250, 260, 270, 275, 280, 285, 290, 295, 300, 310, 315, 320, 325, 330, 335, 340]\n",
        "\n",
        "# Adding the severe outlier\n",
        "data_with_outlier = data + [450]\n",
        "\n",
        "# Function to calculate arithmetic mean\n",
        "def arithmetic_mean(data):\n",
        "    return sum(data) / len(data)\n",
        "\n",
        "# Function to calculate 10% trimmed mean\n",
        "def trimmed_mean(data, trim_percent):\n",
        "    n = len(data)\n",
        "    trim_count = int(n * trim_percent)\n",
        "    sorted_data = sorted(data)\n",
        "    trimmed_data = sorted_data[trim_count: -trim_count]\n",
        "    return sum(trimmed_data) / len(trimmed_data)\n",
        "\n",
        "# Compute means for the dataset with the outlier\n",
        "arithmetic_mean_outlier = arithmetic_mean(data_with_outlier)\n",
        "trimmed_mean_outlier = trimmed_mean(data_with_outlier, 0.1)\n",
        "\n",
        "arithmetic_mean_outlier, trimmed_mean_outlier\n"
      ],
      "metadata": {
        "colab": {
          "base_uri": "https://localhost:8080/"
        },
        "id": "3KEF6XL6unJV",
        "outputId": "5a837ab2-7ac8-45df-ef4a-b2da2807c536"
      },
      "execution_count": 2,
      "outputs": [
        {
          "output_type": "execute_result",
          "data": {
            "text/plain": [
              "(292.6190476190476, 288.8235294117647)"
            ]
          },
          "metadata": {},
          "execution_count": 2
        }
      ]
    }
  ]
}