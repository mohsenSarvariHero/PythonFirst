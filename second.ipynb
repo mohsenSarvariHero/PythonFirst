{
  "nbformat": 4,
  "nbformat_minor": 0,
  "metadata": {
    "colab": {
      "provenance": [],
      "toc_visible": true,
      "authorship_tag": "ABX9TyPbsAuzlwM0hoDQDHsTGJSA",
      "include_colab_link": true
    },
    "kernelspec": {
      "name": "python3",
      "display_name": "Python 3"
    },
    "language_info": {
      "name": "python"
    }
  },
  "cells": [
    {
      "cell_type": "markdown",
      "metadata": {
        "id": "view-in-github",
        "colab_type": "text"
      },
      "source": [
        "<a href=\"https://colab.research.google.com/github/mohsenSarvariHero/PythonFirst/blob/main/second.ipynb\" target=\"_parent\"><img src=\"https://colab.research.google.com/assets/colab-badge.svg\" alt=\"Open In Colab\"/></a>"
      ]
    },
    {
      "cell_type": "code",
      "execution_count": 1,
      "metadata": {
        "colab": {
          "base_uri": "https://localhost:8080/"
        },
        "id": "QeHa7Vhsg5i7",
        "outputId": "cd2bc104-814a-49d5-ae54-ad2a81283ea9"
      },
      "outputs": [
        {
          "output_type": "stream",
          "name": "stdout",
          "text": [
            "new section python\n"
          ]
        }
      ],
      "source": [
        "print (\"new section python\")"
      ]
    },
    {
      "cell_type": "code",
      "source": [
        "age = int(input(\"enter your age : \"))\n",
        "\n",
        "if age >= 18 :\n",
        "  print(\"you are older than 18 old\")\n",
        "elif age< 0 :\n",
        "  print(\"you not born \")\n",
        "else :\n",
        "  print(\"other else age\")"
      ],
      "metadata": {
        "colab": {
          "base_uri": "https://localhost:8080/"
        },
        "id": "s3ROuQ_rhiuI",
        "outputId": "8c526ef1-ab6a-48bc-d9e4-f990c302535e"
      },
      "execution_count": 2,
      "outputs": [
        {
          "output_type": "stream",
          "name": "stdout",
          "text": [
            "enter your age : 12\n",
            "other else age\n"
          ]
        }
      ]
    },
    {
      "cell_type": "code",
      "source": [
        "a = float (input(\"enter your first number : \"))\n",
        "b = float (input(\"enter your second number : \"))\n",
        "ope =input(\"enter your operation(- , + , / , *) : \")\n",
        "\n",
        "if ope == \"+\":\n",
        "  print(round( a + b ))\n",
        "elif ope == \"-\":\n",
        "  print(round(a - b))\n",
        "elif ope == \"/\":\n",
        "  print(round(a / b))\n",
        "elif ope == \"*\":\n",
        "  print(round(a * b))\n",
        "\n",
        "else:\n",
        "  print(\"not know answer :)\")"
      ],
      "metadata": {
        "colab": {
          "base_uri": "https://localhost:8080/"
        },
        "id": "xl5k4-ohiycT",
        "outputId": "c1c0edff-4bdd-424e-ff88-dbd360faa183"
      },
      "execution_count": 8,
      "outputs": [
        {
          "output_type": "stream",
          "name": "stdout",
          "text": [
            "enter your first number : 5\n",
            "enter your second number : 8\n",
            "enter your operation : *\n",
            "40\n"
          ]
        }
      ]
    }
  ]
}