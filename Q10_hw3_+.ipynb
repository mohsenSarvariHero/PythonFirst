{
  "nbformat": 4,
  "nbformat_minor": 0,
  "metadata": {
    "colab": {
      "provenance": [],
      "authorship_tag": "ABX9TyPMd4YingP+BLkVnGU7wtgP",
      "include_colab_link": true
    },
    "kernelspec": {
      "name": "python3",
      "display_name": "Python 3"
    },
    "language_info": {
      "name": "python"
    }
  },
  "cells": [
    {
      "cell_type": "markdown",
      "metadata": {
        "id": "view-in-github",
        "colab_type": "text"
      },
      "source": [
        "<a href=\"https://colab.research.google.com/github/mohsenSarvariHero/PythonFirst/blob/main/Q10_hw3_%2B.ipynb\" target=\"_parent\"><img src=\"https://colab.research.google.com/assets/colab-badge.svg\" alt=\"Open In Colab\"/></a>"
      ]
    },
    {
      "cell_type": "code",
      "execution_count": 1,
      "metadata": {
        "colab": {
          "base_uri": "https://localhost:8080/"
        },
        "id": "vZbG10nfPOEW",
        "outputId": "b5ca7bc4-76b2-4b71-a026-c9e94712b342"
      },
      "outputs": [
        {
          "output_type": "stream",
          "name": "stdout",
          "text": [
            "Coverage using Z-distribution (known std): 94.00%\n",
            "Coverage using Z-distribution (unknown std): 91.00%\n",
            "Coverage using T-distribution: 95.00%\n",
            "Average CI width (Z-distribution, known std): 0.5658\n",
            "Average CI width (Z-distribution, unknown std): 0.5482\n",
            "Average CI width (T-distribution): 0.6156\n"
          ]
        }
      ],
      "source": [
        "import numpy as np\n",
        "import scipy.stats as stats\n",
        "\n",
        "# Parameters\n",
        "population_mean = 2\n",
        "population_std = 0.5\n",
        "sample_size = 12\n",
        "num_samples = 100\n",
        "confidence_level = 0.95\n",
        "\n",
        "# Critical values\n",
        "z_critical = stats.norm.ppf(1 - (1 - confidence_level) / 2)\n",
        "\n",
        "# Function to calculate confidence interval\n",
        "def calculate_ci(sample_mean, std, size, critical_value):\n",
        "    margin_of_error = critical_value * (std / np.sqrt(size))\n",
        "    return sample_mean - margin_of_error, sample_mean + margin_of_error\n",
        "\n",
        "# Simulate the sampling process\n",
        "np.random.seed(42)  # For reproducibility\n",
        "\n",
        "contains_true_mean_z_known = 0\n",
        "contains_true_mean_z_unknown = 0\n",
        "contains_true_mean_t = 0\n",
        "\n",
        "widths_z_known = []\n",
        "widths_z_unknown = []\n",
        "widths_t = []\n",
        "\n",
        "for _ in range(num_samples):\n",
        "    # Generate a random sample\n",
        "    sample = np.random.normal(loc=population_mean, scale=population_std, size=sample_size)\n",
        "    sample_mean = np.mean(sample)\n",
        "    sample_std = np.std(sample, ddof=1)\n",
        "\n",
        "    # CI using known population std (Z-distribution)\n",
        "    ci_z_known = calculate_ci(sample_mean, population_std, sample_size, z_critical)\n",
        "    if ci_z_known[0] <= population_mean <= ci_z_known[1]:\n",
        "        contains_true_mean_z_known += 1\n",
        "    widths_z_known.append(ci_z_known[1] - ci_z_known[0])\n",
        "\n",
        "    # CI using sample std (Z-distribution)\n",
        "    ci_z_unknown = calculate_ci(sample_mean, sample_std, sample_size, z_critical)\n",
        "    if ci_z_unknown[0] <= population_mean <= ci_z_unknown[1]:\n",
        "        contains_true_mean_z_unknown += 1\n",
        "    widths_z_unknown.append(ci_z_unknown[1] - ci_z_unknown[0])\n",
        "\n",
        "    # CI using sample std (T-distribution)\n",
        "    t_critical = stats.t.ppf(1 - (1 - confidence_level) / 2, df=sample_size - 1)\n",
        "    ci_t = calculate_ci(sample_mean, sample_std, sample_size, t_critical)\n",
        "    if ci_t[0] <= population_mean <= ci_t[1]:\n",
        "        contains_true_mean_t += 1\n",
        "    widths_t.append(ci_t[1] - ci_t[0])\n",
        "\n",
        "# Calculate coverage percentages\n",
        "coverage_z_known = contains_true_mean_z_known / num_samples * 100\n",
        "coverage_z_unknown = contains_true_mean_z_unknown / num_samples * 100\n",
        "coverage_t = contains_true_mean_t / num_samples * 100\n",
        "\n",
        "# Display results\n",
        "print(f\"Coverage using Z-distribution (known std): {coverage_z_known:.2f}%\")\n",
        "print(f\"Coverage using Z-distribution (unknown std): {coverage_z_unknown:.2f}%\")\n",
        "print(f\"Coverage using T-distribution: {coverage_t:.2f}%\")\n",
        "\n",
        "print(f\"Average CI width (Z-distribution, known std): {np.mean(widths_z_known):.4f}\")\n",
        "print(f\"Average CI width (Z-distribution, unknown std): {np.mean(widths_z_unknown):.4f}\")\n",
        "print(f\"Average CI width (T-distribution): {np.mean(widths_t):.4f}\")\n"
      ]
    }
  ]
}