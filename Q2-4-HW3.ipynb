{
  "nbformat": 4,
  "nbformat_minor": 0,
  "metadata": {
    "colab": {
      "provenance": [],
      "authorship_tag": "ABX9TyN3DRwkWm4TLE6uEyW7Yv64",
      "include_colab_link": true
    },
    "kernelspec": {
      "name": "python3",
      "display_name": "Python 3"
    },
    "language_info": {
      "name": "python"
    }
  },
  "cells": [
    {
      "cell_type": "markdown",
      "metadata": {
        "id": "view-in-github",
        "colab_type": "text"
      },
      "source": [
        "<a href=\"https://colab.research.google.com/github/mohsenSarvariHero/PythonFirst/blob/main/Q2-4-HW3.ipynb\" target=\"_parent\"><img src=\"https://colab.research.google.com/assets/colab-badge.svg\" alt=\"Open In Colab\"/></a>"
      ]
    },
    {
      "cell_type": "code",
      "execution_count": 1,
      "metadata": {
        "colab": {
          "base_uri": "https://localhost:8080/"
        },
        "id": "i3dj4pjRni8H",
        "outputId": "01a71663-0ae2-4ab5-c998-dd5b25f8685f"
      },
      "outputs": [
        {
          "output_type": "stream",
          "name": "stdout",
          "text": [
            "Observed Type I Error Rate: 0.0501\n",
            "Expected Type I Error Rate: 0.05\n"
          ]
        }
      ],
      "source": [
        "import numpy as np\n",
        "from scipy.stats import norm\n",
        "\n",
        "# Parameters\n",
        "lambda_0 = 10\n",
        "n = 20\n",
        "alpha = 0.05\n",
        "num_simulations = 10000\n",
        "\n",
        "# Critical value for two-tailed test\n",
        "z_critical = norm.ppf(1 - alpha / 2)\n",
        "\n",
        "# Simulate the hypothesis test\n",
        "type_I_errors = 0\n",
        "\n",
        "for _ in range(num_simulations):\n",
        "    # Generate n Poisson samples with mean lambda_0\n",
        "    samples = np.random.poisson(lambda_0, n)\n",
        "\n",
        "    # Compute sample mean (MLE of lambda)\n",
        "    lambda_hat = np.mean(samples)\n",
        "\n",
        "    # Compute the test statistic\n",
        "    se_hat = np.sqrt(lambda_0 / n)\n",
        "    z_stat = (lambda_hat - lambda_0) / se_hat\n",
        "\n",
        "    # Check if the test statistic is in the rejection region\n",
        "    if abs(z_stat) > z_critical:\n",
        "        type_I_errors += 1\n",
        "\n",
        "# Compute the observed Type I error rate\n",
        "type_I_error_rate = type_I_errors / num_simulations\n",
        "\n",
        "# Output the results\n",
        "print(f\"Observed Type I Error Rate: {type_I_error_rate:.4f}\")\n",
        "print(f\"Expected Type I Error Rate: {alpha}\")\n"
      ]
    }
  ]
}