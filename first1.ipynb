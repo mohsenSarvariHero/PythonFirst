{
  "nbformat": 4,
  "nbformat_minor": 0,
  "metadata": {
    "colab": {
      "provenance": [],
      "authorship_tag": "ABX9TyNLkbWqfKhbNpSGHjbM+79a",
      "include_colab_link": true
    },
    "kernelspec": {
      "name": "python3",
      "display_name": "Python 3"
    },
    "language_info": {
      "name": "python"
    }
  },
  "cells": [
    {
      "cell_type": "markdown",
      "metadata": {
        "id": "view-in-github",
        "colab_type": "text"
      },
      "source": [
        "<a href=\"https://colab.research.google.com/github/mohsenSarvariHero/PythonFirst/blob/main/first1.ipynb\" target=\"_parent\"><img src=\"https://colab.research.google.com/assets/colab-badge.svg\" alt=\"Open In Colab\"/></a>"
      ]
    },
    {
      "cell_type": "code",
      "execution_count": 1,
      "metadata": {
        "colab": {
          "base_uri": "https://localhost:8080/"
        },
        "id": "jFxBTBjdFWyc",
        "outputId": "18e7f2b0-e2eb-470f-d291-213d18dff8ed"
      },
      "outputs": [
        {
          "output_type": "stream",
          "name": "stdout",
          "text": [
            "hello this is the first\n"
          ]
        }
      ],
      "source": [
        "print(\"hello this is the first\")"
      ]
    },
    {
      "cell_type": "code",
      "source": [
        "print('i like pizza')"
      ],
      "metadata": {
        "colab": {
          "base_uri": "https://localhost:8080/"
        },
        "id": "5d6KjjchHs8n",
        "outputId": "a71d4929-f651-4603-d771-4982de9645eb"
      },
      "execution_count": 2,
      "outputs": [
        {
          "output_type": "stream",
          "name": "stdout",
          "text": [
            "i like pizza\n"
          ]
        }
      ]
    },
    {
      "cell_type": "code",
      "source": [
        "print(\"first do it\")"
      ],
      "metadata": {
        "colab": {
          "base_uri": "https://localhost:8080/"
        },
        "id": "i_Y3OrjjH3YI",
        "outputId": "39ba0347-764e-4ffc-c0f7-cad8f7edcb7e"
      },
      "execution_count": 3,
      "outputs": [
        {
          "output_type": "stream",
          "name": "stdout",
          "text": [
            "first do it\n"
          ]
        }
      ]
    },
    {
      "cell_type": "code",
      "source": [
        "#bioinformatic programm\n",
        "print(\"comment in this python\")"
      ],
      "metadata": {
        "colab": {
          "base_uri": "https://localhost:8080/"
        },
        "id": "7hga-nBTIDCA",
        "outputId": "1c65c280-0bdd-4764-cc5c-3b50a5c8b70b"
      },
      "execution_count": 4,
      "outputs": [
        {
          "output_type": "stream",
          "name": "stdout",
          "text": [
            "comment in this python\n"
          ]
        }
      ]
    },
    {
      "cell_type": "code",
      "source": [
        "email = \"mohsen@gmail.com\"\n",
        "print(f\"emai is {email}\")\n"
      ],
      "metadata": {
        "colab": {
          "base_uri": "https://localhost:8080/"
        },
        "id": "s-thCYDSJFaZ",
        "outputId": "d2b97853-3ffe-4301-fc18-b3159e4cc938"
      },
      "execution_count": 5,
      "outputs": [
        {
          "output_type": "stream",
          "name": "stdout",
          "text": [
            "emai is mohsen@gmail.com\n"
          ]
        }
      ]
    },
    {
      "cell_type": "code",
      "source": [
        "print(email)\n",
        "if email :\n",
        "  print(\"hello\")\n",
        "else:\n",
        "  print(\"buy\")"
      ],
      "metadata": {
        "colab": {
          "base_uri": "https://localhost:8080/"
        },
        "id": "p-e1Nk0qJQ7Q",
        "outputId": "8a28679e-a0d7-485a-9f3d-a354ca75c365"
      },
      "execution_count": 7,
      "outputs": [
        {
          "output_type": "stream",
          "name": "stdout",
          "text": [
            "mohsen@gmail.com\n",
            "hello\n"
          ]
        }
      ]
    },
    {
      "cell_type": "code",
      "source": [
        "name = input(\"enter your input : \")\n",
        "print(f\" hello {name}\")"
      ],
      "metadata": {
        "colab": {
          "base_uri": "https://localhost:8080/"
        },
        "id": "IKXoviXBOIBS",
        "outputId": "8e58008e-3d57-41f2-8716-168d731cd365"
      },
      "execution_count": 10,
      "outputs": [
        {
          "output_type": "stream",
          "name": "stdout",
          "text": [
            "enter your input : mohsen\n",
            " hello mohsen\n"
          ]
        }
      ]
    },
    {
      "cell_type": "code",
      "source": [
        "length = float(input(\"enter length : \"))\n",
        "width = float(input(\"enter width : \"))\n",
        "area = length * width\n",
        "print(f\"the area is {area}\")"
      ],
      "metadata": {
        "colab": {
          "base_uri": "https://localhost:8080/"
        },
        "id": "BBDZqpK7O6JY",
        "outputId": "d349d419-f182-423c-f9db-a453b8ab7f18"
      },
      "execution_count": 12,
      "outputs": [
        {
          "output_type": "stream",
          "name": "stdout",
          "text": [
            "enter length : 5\n",
            "enter width : 12.3\n",
            "the area is 61.5\n"
          ]
        }
      ]
    },
    {
      "cell_type": "code",
      "source": [
        "item = input(\"what is item do you want buy ? \")\n",
        "price = float(input(\"how much cost ? \"))\n",
        "quantity = int(input(\"how many do you want to buy ? \"))\n",
        "\n",
        "print(f\" buy {item} that ${price} you order {quantity}x \")\n",
        "\n",
        "total = price * quantity\n",
        "\n",
        "print(f\" you buy {item} that ${price} dollars and you order {quantity} number  \")\n",
        "print(f\"your total acount is {total} that to pay\")\n",
        "\n"
      ],
      "metadata": {
        "colab": {
          "base_uri": "https://localhost:8080/"
        },
        "id": "ybsbbOjzP7vC",
        "outputId": "7ba0c048-fce7-4f7a-d81c-6b7af07d924a"
      },
      "execution_count": 17,
      "outputs": [
        {
          "output_type": "stream",
          "name": "stdout",
          "text": [
            "what is item do you want buy ? pizza\n",
            "how much cost ? 10.3\n",
            "how many do you want to buy ? 6\n",
            " buy pizza that $10.3 you order 6x \n",
            " you buy pizza that $10.3 dollars and you order 6 number  \n",
            "your total acount is 61.800000000000004 that to pay\n"
          ]
        }
      ]
    }
  ]
}