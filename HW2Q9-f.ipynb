{
  "nbformat": 4,
  "nbformat_minor": 0,
  "metadata": {
    "colab": {
      "provenance": [],
      "authorship_tag": "ABX9TyMBLOPeH5+0fvOLkSslH7w1",
      "include_colab_link": true
    },
    "kernelspec": {
      "name": "python3",
      "display_name": "Python 3"
    },
    "language_info": {
      "name": "python"
    }
  },
  "cells": [
    {
      "cell_type": "markdown",
      "metadata": {
        "id": "view-in-github",
        "colab_type": "text"
      },
      "source": [
        "<a href=\"https://colab.research.google.com/github/mohsenSarvariHero/PythonFirst/blob/main/HW2Q9-f.ipynb\" target=\"_parent\"><img src=\"https://colab.research.google.com/assets/colab-badge.svg\" alt=\"Open In Colab\"/></a>"
      ]
    },
    {
      "cell_type": "code",
      "execution_count": 4,
      "metadata": {
        "colab": {
          "base_uri": "https://localhost:8080/"
        },
        "id": "hrpSGlFrN1-r",
        "outputId": "40024223-c0aa-4d4b-be52-38cb81c865c1"
      },
      "outputs": [
        {
          "output_type": "stream",
          "name": "stdout",
          "text": [
            "Estimated α: 3.490180149084864\n",
            "Estimated β0: 3232923978037103.0\n",
            "Estimated β1: -33326523464491.652\n"
          ]
        }
      ],
      "source": [
        "import numpy as np\n",
        "from scipy.special import gamma\n",
        "from scipy.optimize import minimize\n",
        "\n",
        "# Given failure times\n",
        "T = np.array([1.2, 2.1, 3.5, 4.7, 5.9])\n",
        "\n",
        "# Define the log-likelihood function\n",
        "def log_likelihood(params):\n",
        "    alpha, beta0, beta1 = params\n",
        "    n = len(T)\n",
        "\n",
        "    # Log-likelihood expression\n",
        "    log_gamma_alpha = np.log(gamma(alpha))\n",
        "    term1 = -n * log_gamma_alpha\n",
        "    term2 = (alpha - 1) * np.sum(np.log(T))\n",
        "    term3 = -np.sum(T / (beta0 + beta1 * T))\n",
        "    term4 = -np.sum((T ** alpha) / (beta0 + beta1 * T) ** alpha)\n",
        "\n",
        "    return -(term1 + term2 + term3 + term4)  # Negative log-likelihood to minimize\n",
        "\n",
        "# Initial guess for parameters\n",
        "initial_params = [1.5, 1.0, 0.1]\n",
        "\n",
        "# Perform optimization\n",
        "result = minimize(log_likelihood, initial_params, method='Nelder-Mead')\n",
        "\n",
        "# Output the estimated parameters\n",
        "alpha_hat, beta0_hat, beta1_hat = result.x\n",
        "print(f\"Estimated α: {alpha_hat}\")\n",
        "print(f\"Estimated β0: {beta0_hat}\")\n",
        "print(f\"Estimated β1: {beta1_hat}\")\n"
      ]
    }
  ]
}