{
  "nbformat": 4,
  "nbformat_minor": 0,
  "metadata": {
    "colab": {
      "provenance": [],
      "authorship_tag": "ABX9TyM3cmo3dqLZ5beZTnbk/+qV",
      "include_colab_link": true
    },
    "kernelspec": {
      "name": "python3",
      "display_name": "Python 3"
    },
    "language_info": {
      "name": "python"
    }
  },
  "cells": [
    {
      "cell_type": "markdown",
      "metadata": {
        "id": "view-in-github",
        "colab_type": "text"
      },
      "source": [
        "<a href=\"https://colab.research.google.com/github/mohsenSarvariHero/PythonFirst/blob/main/Q15_HW4.ipynb\" target=\"_parent\"><img src=\"https://colab.research.google.com/assets/colab-badge.svg\" alt=\"Open In Colab\"/></a>"
      ]
    },
    {
      "cell_type": "code",
      "execution_count": 1,
      "metadata": {
        "colab": {
          "base_uri": "https://localhost:8080/"
        },
        "id": "xGBR2OfSVRzs",
        "outputId": "dc285e72-5686-4c86-8593-49e9fb37bc96"
      },
      "outputs": [
        {
          "output_type": "stream",
          "name": "stdout",
          "text": [
            "Proportion for Campaign 1: 0.6000\n",
            "Proportion for Campaign 2: 0.5600\n",
            "Pooled Proportion: 0.5778\n",
            "Z-Statistic (with continuity correction): 0.7470\n",
            "P-Value: 0.4551\n",
            "Critical Value (α=0.05): ±1.9600\n",
            "95% Confidence Interval for Difference in Proportions: (-0.0516, 0.1316)\n",
            "Fail to reject the null hypothesis: No significant difference in success rates.\n"
          ]
        }
      ],
      "source": [
        "import numpy as np\n",
        "from scipy.stats import norm\n",
        "\n",
        "# Data\n",
        "successes_campaign1 = 120\n",
        "total_campaign1 = 200\n",
        "successes_campaign2 = 140\n",
        "total_campaign2 = 250\n",
        "\n",
        "# Proportions\n",
        "p1 = successes_campaign1 / total_campaign1\n",
        "p2 = successes_campaign2 / total_campaign2\n",
        "\n",
        "# Pooled Proportion\n",
        "pooled_p = (successes_campaign1 + successes_campaign2) / (total_campaign1 + total_campaign2)\n",
        "\n",
        "# Continuity correction\n",
        "difference = abs(p1 - p2) - (1 / min(total_campaign1, total_campaign2))\n",
        "\n",
        "# Standard Error with continuity correction\n",
        "se = np.sqrt(pooled_p * (1 - pooled_p) * (1 / total_campaign1 + 1 / total_campaign2))\n",
        "\n",
        "# Z-Statistic\n",
        "z = difference / se\n",
        "\n",
        "# p-value\n",
        "p_value = 2 * (1 - norm.cdf(abs(z)))  # Two-tailed test\n",
        "\n",
        "# Critical Value for α = 0.05\n",
        "critical_value = norm.ppf(1 - 0.05 / 2)\n",
        "\n",
        "# Confidence Interval for Difference in Proportions\n",
        "se_diff = np.sqrt((p1 * (1 - p1)) / total_campaign1 + (p2 * (1 - p2)) / total_campaign2)\n",
        "ci_lower = (p1 - p2) - critical_value * se_diff\n",
        "ci_upper = (p1 - p2) + critical_value * se_diff\n",
        "\n",
        "# Results\n",
        "print(f\"Proportion for Campaign 1: {p1:.4f}\")\n",
        "print(f\"Proportion for Campaign 2: {p2:.4f}\")\n",
        "print(f\"Pooled Proportion: {pooled_p:.4f}\")\n",
        "print(f\"Z-Statistic (with continuity correction): {z:.4f}\")\n",
        "print(f\"P-Value: {p_value:.4f}\")\n",
        "print(f\"Critical Value (α=0.05): ±{critical_value:.4f}\")\n",
        "print(f\"95% Confidence Interval for Difference in Proportions: ({ci_lower:.4f}, {ci_upper:.4f})\")\n",
        "\n",
        "# Conclusion\n",
        "if abs(z) > critical_value:\n",
        "    print(\"Reject the null hypothesis: The success rates are significantly different.\")\n",
        "else:\n",
        "    print(\"Fail to reject the null hypothesis: No significant difference in success rates.\")\n"
      ]
    }
  ]
}