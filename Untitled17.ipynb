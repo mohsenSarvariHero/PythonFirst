{
  "nbformat": 4,
  "nbformat_minor": 0,
  "metadata": {
    "colab": {
      "provenance": [],
      "authorship_tag": "ABX9TyOWTHe1VmxuPxbMTXW5oC3J",
      "include_colab_link": true
    },
    "kernelspec": {
      "name": "python3",
      "display_name": "Python 3"
    },
    "language_info": {
      "name": "python"
    }
  },
  "cells": [
    {
      "cell_type": "markdown",
      "metadata": {
        "id": "view-in-github",
        "colab_type": "text"
      },
      "source": [
        "<a href=\"https://colab.research.google.com/github/mohsenSarvariHero/PythonFirst/blob/main/Untitled17.ipynb\" target=\"_parent\"><img src=\"https://colab.research.google.com/assets/colab-badge.svg\" alt=\"Open In Colab\"/></a>"
      ]
    },
    {
      "cell_type": "code",
      "execution_count": 1,
      "metadata": {
        "colab": {
          "base_uri": "https://localhost:8080/"
        },
        "id": "-1voNVV1kqQz",
        "outputId": "d173daf7-18af-482a-c3b0-de0942cb82cc"
      },
      "outputs": [
        {
          "output_type": "stream",
          "name": "stdout",
          "text": [
            "today is 6-08-1403\n"
          ]
        }
      ],
      "source": [
        "print(\"today is 6-08-1403\")"
      ]
    },
    {
      "cell_type": "code",
      "source": [
        "col1 = [2,7,3,4,6,8]\n",
        "counter = 0\n",
        "for x in col1 :\n",
        "  for y in col1 :\n",
        "    z = x+y\n",
        "    if z ==10 :\n",
        "      print(f\"x is {x} and y is {y} the result is {z}\")\n",
        "      counter += 1\n",
        "\n",
        "print(counter)"
      ],
      "metadata": {
        "colab": {
          "base_uri": "https://localhost:8080/"
        },
        "id": "Je7wHOZGlXui",
        "outputId": "88d38ba0-39af-4627-e3fc-0c1d85017c84"
      },
      "execution_count": 4,
      "outputs": [
        {
          "output_type": "stream",
          "name": "stdout",
          "text": [
            "x is 2 and y is 8 the result is 10\n",
            "x is 7 and y is 3 the result is 10\n",
            "x is 3 and y is 7 the result is 10\n",
            "x is 4 and y is 6 the result is 10\n",
            "x is 6 and y is 4 the result is 10\n",
            "x is 8 and y is 2 the result is 10\n",
            "6\n"
          ]
        }
      ]
    },
    {
      "cell_type": "code",
      "source": [
        "foods = []\n",
        "prices = []\n",
        "total = 0\n",
        "\n",
        "while True :\n",
        "  food = input(\"enter your favorite food or (q to Quite : )\")\n",
        "  if(food.lower() == \"q\"):\n",
        "    break\n",
        "  else :\n",
        "    price = float(input(f\"enter the price {food} $ : \"))\n",
        "    foods.append(food)\n",
        "    prices.append(price)\n",
        "\n",
        "print(foods)\n",
        "print(prices)\n",
        "\n",
        "print(\"----- your card is ------\")\n",
        "for x in foods:\n",
        "  print (x , end = \" \")\n",
        "\n",
        "print(\"\")\n",
        "for price in prices :\n",
        "  print (price , end = \" \")\n",
        "  total += price\n",
        "print(\"\")\n",
        "print(f\"your total cart is : {total}\")\n"
      ],
      "metadata": {
        "colab": {
          "base_uri": "https://localhost:8080/"
        },
        "id": "x20Cv6GfnAdI",
        "outputId": "86a9f1f1-fee6-46ae-8bf0-7aa9605b8a29"
      },
      "execution_count": 15,
      "outputs": [
        {
          "output_type": "stream",
          "name": "stdout",
          "text": [
            "enter your favorite food or (q to Quite : )pizza\n",
            "enter the price pizza $ : 25\n",
            "enter your favorite food or (q to Quite : )pasta\n",
            "enter the price pasta $ : 12\n",
            "enter your favorite food or (q to Quite : )q\n",
            "['pizza', 'pasta']\n",
            "[25.0, 12.0]\n",
            "----- your card is ------\n",
            "pizza pasta \n",
            "25.0 12.0 \n",
            "your total cart is : 37.0\n"
          ]
        }
      ]
    },
    {
      "cell_type": "code",
      "source": [],
      "metadata": {
        "id": "GdZ5gw8IoWoL"
      },
      "execution_count": null,
      "outputs": []
    }
  ]
}