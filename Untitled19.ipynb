{
  "nbformat": 4,
  "nbformat_minor": 0,
  "metadata": {
    "colab": {
      "provenance": [],
      "authorship_tag": "ABX9TyPsJVSqOXIW3tCEDJkTo7jO",
      "include_colab_link": true
    },
    "kernelspec": {
      "name": "python3",
      "display_name": "Python 3"
    },
    "language_info": {
      "name": "python"
    }
  },
  "cells": [
    {
      "cell_type": "markdown",
      "metadata": {
        "id": "view-in-github",
        "colab_type": "text"
      },
      "source": [
        "<a href=\"https://colab.research.google.com/github/mohsenSarvariHero/PythonFirst/blob/main/Untitled19.ipynb\" target=\"_parent\"><img src=\"https://colab.research.google.com/assets/colab-badge.svg\" alt=\"Open In Colab\"/></a>"
      ]
    },
    {
      "cell_type": "code",
      "execution_count": 1,
      "metadata": {
        "colab": {
          "base_uri": "https://localhost:8080/"
        },
        "id": "aKZZQz0W_JcP",
        "outputId": "f7b3c632-9113-40f5-80d1-c9a4c7fcbf17"
      },
      "outputs": [
        {
          "output_type": "stream",
          "name": "stdout",
          "text": [
            "hello today is 8/8/1403\n"
          ]
        }
      ],
      "source": [
        "print(\"hello today is 8/8/1403\")"
      ]
    },
    {
      "cell_type": "code",
      "source": [
        "array1 = [1,2,3]\n",
        "array2 = [4,5,6]\n",
        "array3 = [7,8,9]\n",
        "array4=[\"#\",0,\"*\"]\n",
        "array5=[array1,array2,array3,array4]\n",
        "print(array5)\n"
      ],
      "metadata": {
        "colab": {
          "base_uri": "https://localhost:8080/"
        },
        "id": "ydziFe9X_YPL",
        "outputId": "a4075151-8670-4677-c020-9c8a526d0e1a"
      },
      "execution_count": 15,
      "outputs": [
        {
          "output_type": "stream",
          "name": "stdout",
          "text": [
            "[[1, 2, 3], [4, 5, 6], [7, 8, 9], ['#', 0, '*']]\n"
          ]
        }
      ]
    },
    {
      "cell_type": "code",
      "source": [
        "for x in array5:\n",
        "  cond = len(x)\n",
        "  i = 0\n",
        "  while i < cond:\n",
        "    print(f\"    {x[i]}    \" , end=\" \")\n",
        "    i += 1\n",
        "  print()\n",
        "  print()\n",
        ""
      ],
      "metadata": {
        "colab": {
          "base_uri": "https://localhost:8080/"
        },
        "id": "L9062TNq_5eN",
        "outputId": "2d03f9ed-64e0-4f61-d064-846d88155e23"
      },
      "execution_count": 16,
      "outputs": [
        {
          "output_type": "stream",
          "name": "stdout",
          "text": [
            "    1         2         3     \n",
            "\n",
            "    4         5         6     \n",
            "\n",
            "    7         8         9     \n",
            "\n",
            "    #         0         *     \n",
            "\n"
          ]
        }
      ]
    },
    {
      "cell_type": "code",
      "source": [
        "questions = (\n",
        "    (\"what is 2+2 ?\"),\n",
        "    (\"what is 5*2 ?\"),\n",
        "    (\"what is 49/7 ?\"),\n",
        "    (\"what is 20*30 ?\"),\n",
        "    (\"what is 100-15 ?\"),\n",
        "    (\"what is 52*2 ?\"),\n",
        "    )\n",
        "\n",
        "options = ((\"A. 4\",\"B. 5\" , \"C. 3\" , \"D. 6\"),\n",
        "           (\"A. 20\",\"B. 8\" , \"C. 10\" , \"D. 12\"),\n",
        "           (\"A. 8\",\"B. 7\" , \"C. 2\" , \"D. 3\"),\n",
        "           (\"A. 6000\",\"B. 60\" , \"C. 300\" , \"D. 600\"),\n",
        "           (\"A. 52\",\"B. 85\" , \"C. 63\" , \"D. 86\"),\n",
        "           (\"A. 104\",\"B. 105\" , \"C. 103\" , \"D. 106\"),\n",
        ")\n",
        "\n",
        "ansewrs = (\"A\",\"C\",\"B\",\"D\",\"B\",\"A\")\n",
        "gueses = []\n",
        "question_num = 0\n",
        "score = 0\n",
        "for question in questions :\n",
        "           print(\"-------------------------\")\n",
        "           print(question)\n",
        "           for option in options[question_num]:\n",
        "            print(option )\n",
        "\n",
        "           useranswer = input(\"enter your ansewr questions ?(A , B , C , D) \").upper()\n",
        "           while useranswer not in (\"A\" , \"B\" , \"C\" , \"D\"):\n",
        "            print(\"enter valid answer please\")\n",
        "            useranswer = input(\"enter your ansewr questions ?(A , B , C , D) \").upper()\n",
        "           if useranswer == ansewrs[question_num]:\n",
        "             print(\"correct\")\n",
        "\n",
        "             score += 1\n",
        "           else :\n",
        "            print(\"wrong answer ! \")\n",
        "            print(f\"the correct answer is {ansewrs[question_num]}\")\n",
        "           question_num += 1\n",
        "print(f\"finshed exam and your score is : {score}\")"
      ],
      "metadata": {
        "colab": {
          "base_uri": "https://localhost:8080/"
        },
        "id": "8od6n9WuFmW-",
        "outputId": "5fa4dd87-a385-4c82-be60-e25372704be2"
      },
      "execution_count": 39,
      "outputs": [
        {
          "output_type": "stream",
          "name": "stdout",
          "text": [
            "-------------------------\n",
            "what is 2+2 ?\n",
            "A. 4\n",
            "B. 5\n",
            "C. 3\n",
            "D. 6\n",
            "enter your ansewr questions ?(A , B , C , D) a\n",
            "correct\n",
            "-------------------------\n",
            "what is 5*2 ?\n",
            "A. 20\n",
            "B. 8\n",
            "C. 10\n",
            "D. 12\n",
            "enter your ansewr questions ?(A , B , C , D) uhi\n",
            "enter valid answer please\n",
            "enter your ansewr questions ?(A , B , C , D) \n",
            "enter valid answer please\n",
            "enter your ansewr questions ?(A , B , C , D) b\n",
            "wrong answer ! \n",
            "the correct answer is C\n",
            "-------------------------\n",
            "what is 49/7 ?\n",
            "A. 8\n",
            "B. 7\n",
            "C. 2\n",
            "D. 3\n",
            "enter your ansewr questions ?(A , B , C , D) b\n",
            "correct\n",
            "-------------------------\n",
            "what is 20*30 ?\n",
            "A. 6000\n",
            "B. 60\n",
            "C. 300\n",
            "D. 600\n",
            "enter your ansewr questions ?(A , B , C , D) d\n",
            "correct\n",
            "-------------------------\n",
            "what is 100-15 ?\n",
            "A. 52\n",
            "B. 85\n",
            "C. 63\n",
            "D. 86\n",
            "enter your ansewr questions ?(A , B , C , D) h\n",
            "enter valid answer please\n",
            "enter your ansewr questions ?(A , B , C , D) d\n",
            "wrong answer ! \n",
            "the correct answer is B\n",
            "-------------------------\n",
            "what is 52*2 ?\n",
            "A. 104\n",
            "B. 105\n",
            "C. 103\n",
            "D. 106\n",
            "enter your ansewr questions ?(A , B , C , D) d\n",
            "wrong answer ! \n",
            "the correct answer is A\n",
            "finshed exam and your score is : 3\n"
          ]
        }
      ]
    }
  ]
}