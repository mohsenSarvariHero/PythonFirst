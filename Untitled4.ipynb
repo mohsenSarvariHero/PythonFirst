{
  "nbformat": 4,
  "nbformat_minor": 0,
  "metadata": {
    "colab": {
      "provenance": [],
      "authorship_tag": "ABX9TyMJe+IWa+g3IESSnEYxYM1H",
      "include_colab_link": true
    },
    "kernelspec": {
      "name": "python3",
      "display_name": "Python 3"
    },
    "language_info": {
      "name": "python"
    }
  },
  "cells": [
    {
      "cell_type": "markdown",
      "metadata": {
        "id": "view-in-github",
        "colab_type": "text"
      },
      "source": [
        "<a href=\"https://colab.research.google.com/github/mohsenSarvariHero/PythonFirst/blob/main/Untitled4.ipynb\" target=\"_parent\"><img src=\"https://colab.research.google.com/assets/colab-badge.svg\" alt=\"Open In Colab\"/></a>"
      ]
    },
    {
      "cell_type": "code",
      "execution_count": 6,
      "metadata": {
        "colab": {
          "base_uri": "https://localhost:8080/"
        },
        "id": "CfHqsRNsweVe",
        "outputId": "964a8223-61f5-4c3d-e7da-e4b9656dde17"
      },
      "outputs": [
        {
          "output_type": "stream",
          "name": "stdout",
          "text": [
            "what is the diamete circle : 10\n",
            "the circle with the 5 diamater is : math.round(31.42)\n"
          ]
        }
      ],
      "source": [
        "#circle\n",
        "import math\n",
        "d = float(input(\"what is the diamete circle : \"))\n",
        "r = int(d/2)\n",
        "c = 2 * math.pi * r\n",
        "c = round(c,2)\n",
        "print(f\"the circle with the {r} diamater is : math.round({c}) cm\")"
      ]
    },
    {
      "cell_type": "code",
      "source": [
        "print(10.5*2)"
      ],
      "metadata": {
        "colab": {
          "base_uri": "https://localhost:8080/"
        },
        "id": "8ZNwPtbQ2AuC",
        "outputId": "64ef6304-f0d9-4e66-8e23-fc0b8b06a658"
      },
      "execution_count": 13,
      "outputs": [
        {
          "output_type": "stream",
          "name": "stdout",
          "text": [
            "21.0\n"
          ]
        }
      ]
    },
    {
      "cell_type": "code",
      "source": [
        "# area circle\n",
        "\n",
        "d = float(input(\"enter the diamater of circles : \"))\n",
        "r = d/2;\n",
        "area = math.pi * (r ** 2)\n",
        "print(round(area,2))"
      ],
      "metadata": {
        "colab": {
          "base_uri": "https://localhost:8080/"
        },
        "id": "sMz2M0AI1G1t",
        "outputId": "ec647bc1-90e7-42f9-e817-895a345846ce"
      },
      "execution_count": 14,
      "outputs": [
        {
          "output_type": "stream",
          "name": "stdout",
          "text": [
            "enter the diamater of circles : 21\n",
            "346.36\n"
          ]
        }
      ]
    },
    {
      "cell_type": "code",
      "source": [
        "#triangle\n",
        "a = float(input(\"enter your first value : \"))\n",
        "b = float(input(\"enter your second value : \"))\n",
        "\n",
        "a = pow(a,2)\n",
        "b = pow(b,2)\n",
        "\n",
        "c = a + b\n",
        "c = round(math.sqrt(c),2)\n",
        "\n",
        "print(f\"your triangle with {a} and {b} is: {c}cm\")"
      ],
      "metadata": {
        "colab": {
          "base_uri": "https://localhost:8080/"
        },
        "id": "uhgRIlMC2TMs",
        "outputId": "99cbee67-9fd8-4310-d374-5939e559db1d"
      },
      "execution_count": 17,
      "outputs": [
        {
          "output_type": "stream",
          "name": "stdout",
          "text": [
            "enter your first value : 3\n",
            "enter your second value : 4\n",
            "your triangle with 9.0 and 16.0 is: 5.0cm\n"
          ]
        }
      ]
    }
  ]
}