{
  "nbformat": 4,
  "nbformat_minor": 0,
  "metadata": {
    "colab": {
      "provenance": [],
      "authorship_tag": "ABX9TyMS/eMw1sgSlnJdw0SZu/U4",
      "include_colab_link": true
    },
    "kernelspec": {
      "name": "python3",
      "display_name": "Python 3"
    },
    "language_info": {
      "name": "python"
    }
  },
  "cells": [
    {
      "cell_type": "markdown",
      "metadata": {
        "id": "view-in-github",
        "colab_type": "text"
      },
      "source": [
        "<a href=\"https://colab.research.google.com/github/mohsenSarvariHero/PythonFirst/blob/main/Q6_1_2_HW5.ipynb\" target=\"_parent\"><img src=\"https://colab.research.google.com/assets/colab-badge.svg\" alt=\"Open In Colab\"/></a>"
      ]
    },
    {
      "cell_type": "code",
      "execution_count": 2,
      "metadata": {
        "colab": {
          "base_uri": "https://localhost:8080/"
        },
        "id": "9i_ILbHCIhmF",
        "outputId": "6a0cf7e6-1012-4599-c6aa-47fe3c0cfcc2"
      },
      "outputs": [
        {
          "output_type": "stream",
          "name": "stdout",
          "text": [
            "F-statistic: 17.73684210526315\n",
            "p-value: 0.0006794297066130484\n"
          ]
        }
      ],
      "source": [
        "from scipy.stats import f_oneway\n",
        "\n",
        "# Define the data\n",
        "data = {\n",
        "    \"Lemon\": [11, 10, 12],\n",
        "    \"Floral\": [11, 14, 11],\n",
        "    \"Fried Food\": [5, 5, 7],\n",
        "    \"None\": [8, 7, 6]\n",
        "}\n",
        "\n",
        "# Extract data for ANOVA\n",
        "lemon = data[\"Lemon\"]\n",
        "floral = data[\"Floral\"]\n",
        "fried_food = data[\"Fried Food\"]\n",
        "none = data[\"None\"]\n",
        "\n",
        "# Perform one-way ANOVA\n",
        "anova_result = f_oneway(lemon, floral, fried_food, none)\n",
        "\n",
        "# Print the results\n",
        "print(\"F-statistic:\", anova_result.statistic)\n",
        "print(\"p-value:\", anova_result.pvalue)\n"
      ]
    },
    {
      "cell_type": "code",
      "source": [
        "import pandas as pd\n",
        "from statsmodels.stats.multicomp import pairwise_tukeyhsd\n",
        "\n",
        "# Organize the data into a long-format DataFrame\n",
        "df = pd.DataFrame({\n",
        "    \"Aroma\": [\"Lemon\"] * 3 + [\"Floral\"] * 3 + [\"Fried Food\"] * 3 + [\"None\"] * 3,\n",
        "    \"Anagrams\": [11, 10, 12, 11, 14, 11, 5, 5, 7, 8, 7, 6]\n",
        "})\n",
        "\n",
        "# Perform Tukey's HSD test\n",
        "tukey_result = pairwise_tukeyhsd(endog=df[\"Anagrams\"], groups=df[\"Aroma\"], alpha=0.05)\n",
        "\n",
        "# Display the results\n",
        "tukey_result.summary()\n"
      ],
      "metadata": {
        "colab": {
          "base_uri": "https://localhost:8080/",
          "height": 178
        },
        "id": "6Gt2oAdZIlWp",
        "outputId": "a290e930-acb1-4fba-9070-42a0bf266b8f"
      },
      "execution_count": 3,
      "outputs": [
        {
          "output_type": "execute_result",
          "data": {
            "text/plain": [
              "<class 'statsmodels.iolib.table.SimpleTable'>"
            ],
            "text/html": [
              "<table class=\"simpletable\">\n",
              "<caption>Multiple Comparison of Means - Tukey HSD, FWER=0.05</caption>\n",
              "<tr>\n",
              "    <th>group1</th>     <th>group2</th>   <th>meandiff</th>  <th>p-adj</th>  <th>lower</th>   <th>upper</th>  <th>reject</th>\n",
              "</tr>\n",
              "<tr>\n",
              "    <td>Floral</td>   <td>Fried Food</td>  <td>-6.3333</td> <td>0.0012</td> <td>-9.6234</td> <td>-3.0432</td>  <td>True</td> \n",
              "</tr>\n",
              "<tr>\n",
              "    <td>Floral</td>      <td>Lemon</td>     <td>-1.0</td>   <td>0.7679</td> <td>-4.2901</td> <td>2.2901</td>   <td>False</td>\n",
              "</tr>\n",
              "<tr>\n",
              "    <td>Floral</td>      <td>None</td>      <td>-5.0</td>   <td>0.0054</td> <td>-8.2901</td> <td>-1.7099</td>  <td>True</td> \n",
              "</tr>\n",
              "<tr>\n",
              "  <td>Fried Food</td>    <td>Lemon</td>    <td>5.3333</td>  <td>0.0037</td> <td>2.0432</td>  <td>8.6234</td>   <td>True</td> \n",
              "</tr>\n",
              "<tr>\n",
              "  <td>Fried Food</td>    <td>None</td>     <td>1.3333</td>   <td>0.589</td> <td>-1.9568</td> <td>4.6234</td>   <td>False</td>\n",
              "</tr>\n",
              "<tr>\n",
              "     <td>Lemon</td>      <td>None</td>      <td>-4.0</td>   <td>0.0192</td> <td>-7.2901</td> <td>-0.7099</td>  <td>True</td> \n",
              "</tr>\n",
              "</table>"
            ],
            "text/latex": "\\begin{center}\n\\begin{tabular}{ccccccc}\n\\toprule\n\\textbf{group1} & \\textbf{group2} & \\textbf{meandiff} & \\textbf{p-adj} & \\textbf{lower} & \\textbf{upper} & \\textbf{reject}  \\\\\n\\midrule\n     Floral     &    Fried Food   &      -6.3333      &     0.0012     &    -9.6234     &    -3.0432     &       True       \\\\\n     Floral     &      Lemon      &        -1.0       &     0.7679     &    -4.2901     &     2.2901     &      False       \\\\\n     Floral     &       None      &        -5.0       &     0.0054     &    -8.2901     &    -1.7099     &       True       \\\\\n   Fried Food   &      Lemon      &       5.3333      &     0.0037     &     2.0432     &     8.6234     &       True       \\\\\n   Fried Food   &       None      &       1.3333      &     0.589      &    -1.9568     &     4.6234     &      False       \\\\\n     Lemon      &       None      &        -4.0       &     0.0192     &    -7.2901     &    -0.7099     &       True       \\\\\n\\bottomrule\n\\end{tabular}\n%\\caption{Multiple Comparison of Means - Tukey HSD, FWER=0.05}\n\\end{center}"
          },
          "metadata": {},
          "execution_count": 3
        }
      ]
    }
  ]
}