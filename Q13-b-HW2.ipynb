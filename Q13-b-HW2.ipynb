{
  "nbformat": 4,
  "nbformat_minor": 0,
  "metadata": {
    "colab": {
      "provenance": [],
      "authorship_tag": "ABX9TyPRy2BUYZm41OzCiZ35QeGn",
      "include_colab_link": true
    },
    "kernelspec": {
      "name": "python3",
      "display_name": "Python 3"
    },
    "language_info": {
      "name": "python"
    }
  },
  "cells": [
    {
      "cell_type": "markdown",
      "metadata": {
        "id": "view-in-github",
        "colab_type": "text"
      },
      "source": [
        "<a href=\"https://colab.research.google.com/github/mohsenSarvariHero/PythonFirst/blob/main/Q13-b-HW2.ipynb\" target=\"_parent\"><img src=\"https://colab.research.google.com/assets/colab-badge.svg\" alt=\"Open In Colab\"/></a>"
      ]
    },
    {
      "cell_type": "code",
      "execution_count": 3,
      "metadata": {
        "colab": {
          "base_uri": "https://localhost:8080/"
        },
        "id": "GHjDbSsm0D4o",
        "outputId": "4d8cc5ff-f8ec-4092-d816-0ed9747fc0e0"
      },
      "outputs": [
        {
          "output_type": "stream",
          "name": "stdout",
          "text": [
            "Numerical Mean (E[X]): 0.07999999999674934\n",
            "Numerical Variance (Var[X]): 0.039999828424435425\n"
          ]
        }
      ],
      "source": [
        "import numpy as np\n",
        "\n",
        "# Define the MGF function\n",
        "def MGF(t, mu=0.08, sigma2=0.04):\n",
        "\n",
        "    return np.exp(mu * t + 0.5 * sigma2 * t**2)\n",
        "\n",
        "# Numerical derivatives using central difference\n",
        "def numerical_derivative(f, t, h=1e-5, **kwargs):\n",
        "\n",
        "    return (f(t + h, **kwargs) - f(t - h, **kwargs)) / (2 * h)\n",
        "\n",
        "# Compute the first derivative M_X'(0) (mean)\n",
        "mean_numerical = numerical_derivative(MGF, t=0, mu=0.08, sigma2=0.04)\n",
        "\n",
        "# Compute the second derivative M_X''(0)\n",
        "second_derivative = numerical_derivative(lambda t, **kwargs: numerical_derivative(MGF, t, **kwargs),\n",
        "                                         t=0, mu=0.08, sigma2=0.04)\n",
        "\n",
        "# Compute variance using Var(X) = M_X''(0) - (M_X'(0))^2\n",
        "variance_numerical = second_derivative - mean_numerical**2\n",
        "\n",
        "# Display results\n",
        "print(\"Numerical Mean (E[X]):\", mean_numerical)\n",
        "print(\"Numerical Variance (Var[X]):\", variance_numerical)\n",
        "\n"
      ]
    }
  ]
}