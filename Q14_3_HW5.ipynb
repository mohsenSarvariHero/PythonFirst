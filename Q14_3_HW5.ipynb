{
  "nbformat": 4,
  "nbformat_minor": 0,
  "metadata": {
    "colab": {
      "provenance": [],
      "authorship_tag": "ABX9TyM7GT47OYql3HXt/59SnsF5",
      "include_colab_link": true
    },
    "kernelspec": {
      "name": "python3",
      "display_name": "Python 3"
    },
    "language_info": {
      "name": "python"
    }
  },
  "cells": [
    {
      "cell_type": "markdown",
      "metadata": {
        "id": "view-in-github",
        "colab_type": "text"
      },
      "source": [
        "<a href=\"https://colab.research.google.com/github/mohsenSarvariHero/PythonFirst/blob/main/Q14_3_HW5.ipynb\" target=\"_parent\"><img src=\"https://colab.research.google.com/assets/colab-badge.svg\" alt=\"Open In Colab\"/></a>"
      ]
    },
    {
      "cell_type": "code",
      "execution_count": 2,
      "metadata": {
        "colab": {
          "base_uri": "https://localhost:8080/"
        },
        "id": "7nsdGJfTm4cm",
        "outputId": "6f1abdfb-2fe2-4c2c-d302-6ab60979e582"
      },
      "outputs": [
        {
          "output_type": "stream",
          "name": "stdout",
          "text": [
            "Bootstrap Standard Error: 0.1570\n"
          ]
        }
      ],
      "source": [
        "import numpy as np\n",
        "\n",
        "# Original data\n",
        "data = [3, 0, 2, 1, 3, 2, 1, 0, 2, 1]\n",
        "n = len(data)\n",
        "B = 10000  # Number of bootstrap simulations\n",
        "\n",
        "# Function to calculate MLE for theta\n",
        "def mle_theta(sample):\n",
        "    n0 = np.sum(sample == 0)  # Count occurrences of 0\n",
        "    n1 = np.sum(sample == 1)  # Count occurrences of 1\n",
        "    return (n0 + n1) / len(sample)\n",
        "\n",
        "# Perform bootstrap\n",
        "bootstrap_thetas = []\n",
        "for _ in range(B):\n",
        "    bootstrap_sample = np.random.choice(data, size=n, replace=True)\n",
        "    bootstrap_thetas.append(mle_theta(bootstrap_sample))\n",
        "\n",
        "# Compute the standard error\n",
        "bootstrap_se = np.std(bootstrap_thetas, ddof=1)\n",
        "print(f\"Bootstrap Standard Error: {bootstrap_se:.4f}\")\n"
      ]
    }
  ]
}