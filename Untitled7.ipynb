{
  "nbformat": 4,
  "nbformat_minor": 0,
  "metadata": {
    "colab": {
      "provenance": [],
      "authorship_tag": "ABX9TyOqMvFxVj2UZK8zuLyqX46x",
      "include_colab_link": true
    },
    "kernelspec": {
      "name": "python3",
      "display_name": "Python 3"
    },
    "language_info": {
      "name": "python"
    }
  },
  "cells": [
    {
      "cell_type": "markdown",
      "metadata": {
        "id": "view-in-github",
        "colab_type": "text"
      },
      "source": [
        "<a href=\"https://colab.research.google.com/github/mohsenSarvariHero/PythonFirst/blob/main/Untitled7.ipynb\" target=\"_parent\"><img src=\"https://colab.research.google.com/assets/colab-badge.svg\" alt=\"Open In Colab\"/></a>"
      ]
    },
    {
      "cell_type": "code",
      "execution_count": null,
      "metadata": {
        "colab": {
          "base_uri": "https://localhost:8080/"
        },
        "id": "cl8urpMY6CIO",
        "outputId": "e318f93f-356b-4084-e455-be5e14507074"
      },
      "outputs": [
        {
          "output_type": "stream",
          "name": "stdout",
          "text": [
            "today is sunday 29/07/1403\n"
          ]
        }
      ],
      "source": [
        "print(\"today is sunday 29/07/1403\")"
      ]
    },
    {
      "cell_type": "code",
      "source": [
        "\n",
        "def repeat(sentence , word):\n",
        "  length = len(word)\n",
        "  offset = 0\n",
        "  count = 0\n",
        "  pos = 0\n",
        "  while pos != -1 :\n",
        "    pos = sentence.find(word , offset)\n",
        "\n",
        "    offset = pos + length\n",
        "    count += 1\n",
        "\n",
        "  print(count - 1  )\n",
        "\n",
        "repeat(\"mohseefmohs4enffgv moh dfaef mohsen.\" , \"mohsen\")"
      ],
      "metadata": {
        "colab": {
          "base_uri": "https://localhost:8080/"
        },
        "id": "TIUYRCzz6IqN",
        "outputId": "6a4c4719-93ea-49eb-b7f7-d2fbd1a2e5d1"
      },
      "execution_count": null,
      "outputs": [
        {
          "output_type": "stream",
          "name": "stdout",
          "text": [
            "1\n"
          ]
        }
      ]
    },
    {
      "cell_type": "code",
      "source": [
        "num1 = \"1258-658-6578-5241\"\n",
        "print(num1[-1])\n",
        "print(num1[:len(num1)-1])\n",
        "print(num1[-1])"
      ],
      "metadata": {
        "colab": {
          "base_uri": "https://localhost:8080/"
        },
        "id": "q38BifOv70c0",
        "outputId": "9431c86e-2379-4532-e48f-da0694eb8288"
      },
      "execution_count": 6,
      "outputs": [
        {
          "output_type": "stream",
          "name": "stdout",
          "text": [
            "1\n",
            "1258-658-6578-524\n",
            "1\n"
          ]
        }
      ]
    },
    {
      "cell_type": "code",
      "source": [
        "# reverse the  input\n",
        "strN = \"\"\n",
        "i = 0\n",
        "for i in range(len(num1)):\n",
        "  strN += num1[-1]\n",
        "  num1 = num1[:len(num1)-1]\n",
        "\n",
        "print(strN)"
      ],
      "metadata": {
        "colab": {
          "base_uri": "https://localhost:8080/"
        },
        "id": "d2fPGKWE8yOU",
        "outputId": "56c2277d-1b55-4a95-f108-27489765f1b6"
      },
      "execution_count": null,
      "outputs": [
        {
          "output_type": "stream",
          "name": "stdout",
          "text": [
            "1425-8756-856-8521\n"
          ]
        }
      ]
    },
    {
      "cell_type": "code",
      "source": [
        "reverse = num1[::-1]\n",
        "print(reverse)"
      ],
      "metadata": {
        "id": "X8flyUUaGjKU",
        "outputId": "55a7665c-6ae6-4a54-f81d-0f2c1102610c",
        "colab": {
          "base_uri": "https://localhost:8080/"
        }
      },
      "execution_count": 7,
      "outputs": [
        {
          "output_type": "stream",
          "name": "stdout",
          "text": [
            "1425-8756-856-8521\n"
          ]
        }
      ]
    },
    {
      "cell_type": "code",
      "source": [
        "price1 = -15544.2154\n",
        "price2 = 595.875\n",
        "print(f\"the price is {price1 : }\")\n",
        "print(f\"the price is {price2: }\")"
      ],
      "metadata": {
        "id": "AnmJ87giG6bt",
        "outputId": "9c860c0e-e020-4702-f34f-f560bf7e33de",
        "colab": {
          "base_uri": "https://localhost:8080/"
        }
      },
      "execution_count": 19,
      "outputs": [
        {
          "output_type": "stream",
          "name": "stdout",
          "text": [
            "the price is -15544.2154\n",
            "the price is  595.875\n"
          ]
        }
      ]
    },
    {
      "cell_type": "code",
      "source": [
        "name = input(\"enter your name : ...\")\n",
        "\n",
        "while name == \"\":\n",
        "  print(\"you did not enter your name :)\")\n",
        "  name = input(\"enter your name please : \")\n",
        "print(f\"hello {name} , your welcome\")"
      ],
      "metadata": {
        "id": "hIb_ncqXJXRX",
        "outputId": "2ad9d214-9928-4c37-e092-2d9b1efd8022",
        "colab": {
          "base_uri": "https://localhost:8080/"
        }
      },
      "execution_count": 20,
      "outputs": [
        {
          "output_type": "stream",
          "name": "stdout",
          "text": [
            "enter your name : ...\n",
            "you did not enter your name :)\n",
            "enter your name please : \n",
            "you did not enter your name :)\n",
            "enter your name please : \n",
            "you did not enter your name :)\n",
            "enter your name please : mohsen\n",
            "hello mohsen , your welcome\n"
          ]
        }
      ]
    },
    {
      "cell_type": "code",
      "source": [
        "food = input(\"enter your food or (q to quite ) : \")\n",
        "\n",
        "while not food == \"q\":\n",
        "  print(f\"you liked {food}\")\n",
        "  food = input(\"enter another food ro (q ti quite)\")\n",
        "\n",
        "print(\"bye\")\n"
      ],
      "metadata": {
        "id": "dJUiz_s0LEmf",
        "outputId": "a1aed4ad-c40a-4746-a088-299858beef0a",
        "colab": {
          "base_uri": "https://localhost:8080/"
        }
      },
      "execution_count": 21,
      "outputs": [
        {
          "output_type": "stream",
          "name": "stdout",
          "text": [
            "enter your food or (q to quite ) : pasta\n",
            "you liked pasta\n",
            "enter another food ro (q ti quite)chicken\n",
            "you liked chicken\n",
            "enter another food ro (q ti quite)q\n",
            "bye\n"
          ]
        }
      ]
    },
    {
      "cell_type": "code",
      "source": [
        "number = int(input(\"enter number between 1 and 10\"))\n",
        "\n",
        "while number<1 or number > 10 :\n",
        "  print(\"your input not valid try again\")\n",
        "  number = int(input(\"enter number between 1 and 10 \"))\n",
        "\n",
        "print(f\"your number is :{number}\")"
      ],
      "metadata": {
        "id": "dwHt3S9XMiZd",
        "outputId": "75c71edc-7af4-481b-c3b5-f513794bdba9",
        "colab": {
          "base_uri": "https://localhost:8080/"
        }
      },
      "execution_count": 22,
      "outputs": [
        {
          "output_type": "stream",
          "name": "stdout",
          "text": [
            "enter number between 1 and 1045\n",
            "your input not valid try again\n",
            "enter number between 1 and 10 1546\n",
            "your input not valid try again\n",
            "enter number between 1 and 10 -54\n",
            "your input not valid try again\n",
            "enter number between 1 and 10 12\n",
            "your input not valid try again\n",
            "enter number between 1 and 10 8\n",
            "yout number is :8\n"
          ]
        }
      ]
    }
  ]
}