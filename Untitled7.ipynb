{
  "nbformat": 4,
  "nbformat_minor": 0,
  "metadata": {
    "colab": {
      "provenance": [],
      "authorship_tag": "ABX9TyM4EHJDbOONRfYs7w3p7Pig",
      "include_colab_link": true
    },
    "kernelspec": {
      "name": "python3",
      "display_name": "Python 3"
    },
    "language_info": {
      "name": "python"
    }
  },
  "cells": [
    {
      "cell_type": "markdown",
      "metadata": {
        "id": "view-in-github",
        "colab_type": "text"
      },
      "source": [
        "<a href=\"https://colab.research.google.com/github/mohsenSarvariHero/PythonFirst/blob/main/Untitled7.ipynb\" target=\"_parent\"><img src=\"https://colab.research.google.com/assets/colab-badge.svg\" alt=\"Open In Colab\"/></a>"
      ]
    },
    {
      "cell_type": "code",
      "execution_count": 1,
      "metadata": {
        "colab": {
          "base_uri": "https://localhost:8080/"
        },
        "id": "cl8urpMY6CIO",
        "outputId": "e318f93f-356b-4084-e455-be5e14507074"
      },
      "outputs": [
        {
          "output_type": "stream",
          "name": "stdout",
          "text": [
            "today is sunday 29/07/1403\n"
          ]
        }
      ],
      "source": [
        "print(\"today is sunday 29/07/1403\")"
      ]
    },
    {
      "cell_type": "code",
      "source": [
        "\n",
        "def repeat(sentence , word):\n",
        "  length = len(word)\n",
        "  offset = 0\n",
        "  count = 0\n",
        "  pos = 0\n",
        "  while pos != -1 :\n",
        "    pos = sentence.find(word , offset)\n",
        "\n",
        "    offset = pos + length\n",
        "    count += 1\n",
        "\n",
        "  print(count - 1  )\n",
        "\n",
        "repeat(\"mohseefmohs4enffgv moh dfaef mohsen.\" , \"mohsen\")"
      ],
      "metadata": {
        "colab": {
          "base_uri": "https://localhost:8080/"
        },
        "id": "TIUYRCzz6IqN",
        "outputId": "6a4c4719-93ea-49eb-b7f7-d2fbd1a2e5d1"
      },
      "execution_count": 19,
      "outputs": [
        {
          "output_type": "stream",
          "name": "stdout",
          "text": [
            "1\n"
          ]
        }
      ]
    },
    {
      "cell_type": "code",
      "source": [
        "num1 = \"1258-658-6578-5241\"\n",
        "print(num1[-1])\n",
        "print(num1[:len(num1)-1])\n",
        "print(num1[-1])"
      ],
      "metadata": {
        "colab": {
          "base_uri": "https://localhost:8080/"
        },
        "id": "q38BifOv70c0",
        "outputId": "ce09833d-0e91-4856-b5e9-df6b801c7284"
      },
      "execution_count": 27,
      "outputs": [
        {
          "output_type": "stream",
          "name": "stdout",
          "text": [
            "1\n",
            "1258-658-6578-524\n",
            "1\n"
          ]
        }
      ]
    },
    {
      "cell_type": "code",
      "source": [
        "# reverse the  input\n",
        "strN = \"\"\n",
        "i = 0\n",
        "for i in range(len(num1)):\n",
        "  strN += num1[-1]\n",
        "  num1 = num1[:len(num1)-1]\n",
        "\n",
        "print(strN)"
      ],
      "metadata": {
        "colab": {
          "base_uri": "https://localhost:8080/"
        },
        "id": "d2fPGKWE8yOU",
        "outputId": "56c2277d-1b55-4a95-f108-27489765f1b6"
      },
      "execution_count": 30,
      "outputs": [
        {
          "output_type": "stream",
          "name": "stdout",
          "text": [
            "1425-8756-856-8521\n"
          ]
        }
      ]
    }
  ]
}