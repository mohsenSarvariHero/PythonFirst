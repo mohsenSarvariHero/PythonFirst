{
  "nbformat": 4,
  "nbformat_minor": 0,
  "metadata": {
    "colab": {
      "provenance": [],
      "authorship_tag": "ABX9TyOLP80U1as0Rmaf/4inhbxy",
      "include_colab_link": true
    },
    "kernelspec": {
      "name": "python3",
      "display_name": "Python 3"
    },
    "language_info": {
      "name": "python"
    }
  },
  "cells": [
    {
      "cell_type": "markdown",
      "metadata": {
        "id": "view-in-github",
        "colab_type": "text"
      },
      "source": [
        "<a href=\"https://colab.research.google.com/github/mohsenSarvariHero/PythonFirst/blob/main/Q6_HW5.ipynb\" target=\"_parent\"><img src=\"https://colab.research.google.com/assets/colab-badge.svg\" alt=\"Open In Colab\"/></a>"
      ]
    },
    {
      "cell_type": "code",
      "execution_count": 1,
      "metadata": {
        "id": "oAFpofnw6QF7",
        "outputId": "8b3f3139-e306-499b-9c4c-ab1f8b898351",
        "colab": {
          "base_uri": "https://localhost:8080/"
        }
      },
      "outputs": [
        {
          "output_type": "stream",
          "name": "stdout",
          "text": [
            "F-statistic: 17.73684210526315\n",
            "p-value: 0.0006794297066130484\n"
          ]
        }
      ],
      "source": [
        "from scipy.stats import f_oneway\n",
        "\n",
        "# Define the data\n",
        "data = {\n",
        "    \"Lemon\": [11, 10, 12],\n",
        "    \"Floral\": [11, 14, 11],\n",
        "    \"Fried Food\": [5, 5, 7],\n",
        "    \"None\": [8, 7, 6]\n",
        "}\n",
        "\n",
        "# Extract data for ANOVA\n",
        "lemon = data[\"Lemon\"]\n",
        "floral = data[\"Floral\"]\n",
        "fried_food = data[\"Fried Food\"]\n",
        "none = data[\"None\"]\n",
        "\n",
        "# Perform one-way ANOVA\n",
        "anova_result = f_oneway(lemon, floral, fried_food, none)\n",
        "\n",
        "# Print the results\n",
        "print(\"F-statistic:\", anova_result.statistic)\n",
        "print(\"p-value:\", anova_result.pvalue)\n"
      ]
    }
  ]
}