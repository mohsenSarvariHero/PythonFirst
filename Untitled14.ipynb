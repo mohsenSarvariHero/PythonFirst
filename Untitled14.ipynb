{
  "nbformat": 4,
  "nbformat_minor": 0,
  "metadata": {
    "colab": {
      "provenance": [],
      "authorship_tag": "ABX9TyMrovQVP4sl9POkZLDx+QlZ",
      "include_colab_link": true
    },
    "kernelspec": {
      "name": "python3",
      "display_name": "Python 3"
    },
    "language_info": {
      "name": "python"
    }
  },
  "cells": [
    {
      "cell_type": "markdown",
      "metadata": {
        "id": "view-in-github",
        "colab_type": "text"
      },
      "source": [
        "<a href=\"https://colab.research.google.com/github/mohsenSarvariHero/PythonFirst/blob/main/Untitled14.ipynb\" target=\"_parent\"><img src=\"https://colab.research.google.com/assets/colab-badge.svg\" alt=\"Open In Colab\"/></a>"
      ]
    },
    {
      "cell_type": "code",
      "execution_count": null,
      "metadata": {
        "id": "ZQFEn4qIUEIE"
      },
      "outputs": [],
      "source": []
    },
    {
      "cell_type": "code",
      "source": [],
      "metadata": {
        "id": "I13el30ZhgS5"
      },
      "execution_count": null,
      "outputs": []
    },
    {
      "cell_type": "code",
      "source": [
        "from google.colab import drive\n",
        "drive.mount('/content/drive')"
      ],
      "metadata": {
        "colab": {
          "base_uri": "https://localhost:8080/"
        },
        "id": "o0lKdW0IUHoL",
        "outputId": "47678abb-c76f-4d6f-b5d7-5b064d1d4d7c"
      },
      "execution_count": 1,
      "outputs": [
        {
          "output_type": "stream",
          "name": "stdout",
          "text": [
            "Mounted at /content/drive\n"
          ]
        }
      ]
    },
    {
      "cell_type": "code",
      "source": [
        "from google.colab import files\n",
        "uploaded = files.upload()  # This opens a dialog to upload your file.\n"
      ],
      "metadata": {
        "colab": {
          "base_uri": "https://localhost:8080/",
          "height": 73
        },
        "id": "0yvnFhU_h-0B",
        "outputId": "dcdb9dbf-741c-4fd8-d20d-0704ee10f316"
      },
      "execution_count": 3,
      "outputs": [
        {
          "output_type": "display_data",
          "data": {
            "text/plain": [
              "<IPython.core.display.HTML object>"
            ],
            "text/html": [
              "\n",
              "     <input type=\"file\" id=\"files-988bd61a-46be-4727-b6ab-8b61f430b444\" name=\"files[]\" multiple disabled\n",
              "        style=\"border:none\" />\n",
              "     <output id=\"result-988bd61a-46be-4727-b6ab-8b61f430b444\">\n",
              "      Upload widget is only available when the cell has been executed in the\n",
              "      current browser session. Please rerun this cell to enable.\n",
              "      </output>\n",
              "      <script>// Copyright 2017 Google LLC\n",
              "//\n",
              "// Licensed under the Apache License, Version 2.0 (the \"License\");\n",
              "// you may not use this file except in compliance with the License.\n",
              "// You may obtain a copy of the License at\n",
              "//\n",
              "//      http://www.apache.org/licenses/LICENSE-2.0\n",
              "//\n",
              "// Unless required by applicable law or agreed to in writing, software\n",
              "// distributed under the License is distributed on an \"AS IS\" BASIS,\n",
              "// WITHOUT WARRANTIES OR CONDITIONS OF ANY KIND, either express or implied.\n",
              "// See the License for the specific language governing permissions and\n",
              "// limitations under the License.\n",
              "\n",
              "/**\n",
              " * @fileoverview Helpers for google.colab Python module.\n",
              " */\n",
              "(function(scope) {\n",
              "function span(text, styleAttributes = {}) {\n",
              "  const element = document.createElement('span');\n",
              "  element.textContent = text;\n",
              "  for (const key of Object.keys(styleAttributes)) {\n",
              "    element.style[key] = styleAttributes[key];\n",
              "  }\n",
              "  return element;\n",
              "}\n",
              "\n",
              "// Max number of bytes which will be uploaded at a time.\n",
              "const MAX_PAYLOAD_SIZE = 100 * 1024;\n",
              "\n",
              "function _uploadFiles(inputId, outputId) {\n",
              "  const steps = uploadFilesStep(inputId, outputId);\n",
              "  const outputElement = document.getElementById(outputId);\n",
              "  // Cache steps on the outputElement to make it available for the next call\n",
              "  // to uploadFilesContinue from Python.\n",
              "  outputElement.steps = steps;\n",
              "\n",
              "  return _uploadFilesContinue(outputId);\n",
              "}\n",
              "\n",
              "// This is roughly an async generator (not supported in the browser yet),\n",
              "// where there are multiple asynchronous steps and the Python side is going\n",
              "// to poll for completion of each step.\n",
              "// This uses a Promise to block the python side on completion of each step,\n",
              "// then passes the result of the previous step as the input to the next step.\n",
              "function _uploadFilesContinue(outputId) {\n",
              "  const outputElement = document.getElementById(outputId);\n",
              "  const steps = outputElement.steps;\n",
              "\n",
              "  const next = steps.next(outputElement.lastPromiseValue);\n",
              "  return Promise.resolve(next.value.promise).then((value) => {\n",
              "    // Cache the last promise value to make it available to the next\n",
              "    // step of the generator.\n",
              "    outputElement.lastPromiseValue = value;\n",
              "    return next.value.response;\n",
              "  });\n",
              "}\n",
              "\n",
              "/**\n",
              " * Generator function which is called between each async step of the upload\n",
              " * process.\n",
              " * @param {string} inputId Element ID of the input file picker element.\n",
              " * @param {string} outputId Element ID of the output display.\n",
              " * @return {!Iterable<!Object>} Iterable of next steps.\n",
              " */\n",
              "function* uploadFilesStep(inputId, outputId) {\n",
              "  const inputElement = document.getElementById(inputId);\n",
              "  inputElement.disabled = false;\n",
              "\n",
              "  const outputElement = document.getElementById(outputId);\n",
              "  outputElement.innerHTML = '';\n",
              "\n",
              "  const pickedPromise = new Promise((resolve) => {\n",
              "    inputElement.addEventListener('change', (e) => {\n",
              "      resolve(e.target.files);\n",
              "    });\n",
              "  });\n",
              "\n",
              "  const cancel = document.createElement('button');\n",
              "  inputElement.parentElement.appendChild(cancel);\n",
              "  cancel.textContent = 'Cancel upload';\n",
              "  const cancelPromise = new Promise((resolve) => {\n",
              "    cancel.onclick = () => {\n",
              "      resolve(null);\n",
              "    };\n",
              "  });\n",
              "\n",
              "  // Wait for the user to pick the files.\n",
              "  const files = yield {\n",
              "    promise: Promise.race([pickedPromise, cancelPromise]),\n",
              "    response: {\n",
              "      action: 'starting',\n",
              "    }\n",
              "  };\n",
              "\n",
              "  cancel.remove();\n",
              "\n",
              "  // Disable the input element since further picks are not allowed.\n",
              "  inputElement.disabled = true;\n",
              "\n",
              "  if (!files) {\n",
              "    return {\n",
              "      response: {\n",
              "        action: 'complete',\n",
              "      }\n",
              "    };\n",
              "  }\n",
              "\n",
              "  for (const file of files) {\n",
              "    const li = document.createElement('li');\n",
              "    li.append(span(file.name, {fontWeight: 'bold'}));\n",
              "    li.append(span(\n",
              "        `(${file.type || 'n/a'}) - ${file.size} bytes, ` +\n",
              "        `last modified: ${\n",
              "            file.lastModifiedDate ? file.lastModifiedDate.toLocaleDateString() :\n",
              "                                    'n/a'} - `));\n",
              "    const percent = span('0% done');\n",
              "    li.appendChild(percent);\n",
              "\n",
              "    outputElement.appendChild(li);\n",
              "\n",
              "    const fileDataPromise = new Promise((resolve) => {\n",
              "      const reader = new FileReader();\n",
              "      reader.onload = (e) => {\n",
              "        resolve(e.target.result);\n",
              "      };\n",
              "      reader.readAsArrayBuffer(file);\n",
              "    });\n",
              "    // Wait for the data to be ready.\n",
              "    let fileData = yield {\n",
              "      promise: fileDataPromise,\n",
              "      response: {\n",
              "        action: 'continue',\n",
              "      }\n",
              "    };\n",
              "\n",
              "    // Use a chunked sending to avoid message size limits. See b/62115660.\n",
              "    let position = 0;\n",
              "    do {\n",
              "      const length = Math.min(fileData.byteLength - position, MAX_PAYLOAD_SIZE);\n",
              "      const chunk = new Uint8Array(fileData, position, length);\n",
              "      position += length;\n",
              "\n",
              "      const base64 = btoa(String.fromCharCode.apply(null, chunk));\n",
              "      yield {\n",
              "        response: {\n",
              "          action: 'append',\n",
              "          file: file.name,\n",
              "          data: base64,\n",
              "        },\n",
              "      };\n",
              "\n",
              "      let percentDone = fileData.byteLength === 0 ?\n",
              "          100 :\n",
              "          Math.round((position / fileData.byteLength) * 100);\n",
              "      percent.textContent = `${percentDone}% done`;\n",
              "\n",
              "    } while (position < fileData.byteLength);\n",
              "  }\n",
              "\n",
              "  // All done.\n",
              "  yield {\n",
              "    response: {\n",
              "      action: 'complete',\n",
              "    }\n",
              "  };\n",
              "}\n",
              "\n",
              "scope.google = scope.google || {};\n",
              "scope.google.colab = scope.google.colab || {};\n",
              "scope.google.colab._files = {\n",
              "  _uploadFiles,\n",
              "  _uploadFilesContinue,\n",
              "};\n",
              "})(self);\n",
              "</script> "
            ]
          },
          "metadata": {}
        },
        {
          "output_type": "stream",
          "name": "stdout",
          "text": [
            "Saving bbr.tr to bbr (1).tr\n"
          ]
        }
      ]
    },
    {
      "cell_type": "code",
      "source": [
        "import os\n",
        "print(os.listdir('/content'))  # Lists files in the current directory\n"
      ],
      "metadata": {
        "colab": {
          "base_uri": "https://localhost:8080/"
        },
        "id": "o89lerFIiMXo",
        "outputId": "b6498327-dda9-4371-b9ed-072da43ec01c"
      },
      "execution_count": 4,
      "outputs": [
        {
          "output_type": "stream",
          "name": "stdout",
          "text": [
            "['.config', 'drive', 'bbr (1).tr', 'plot.py', 'bbr.tr', 'sample_data']\n"
          ]
        }
      ]
    },
    {
      "cell_type": "code",
      "source": [
        "import matplotlib.pyplot as plt\n",
        "from matplotlib.ticker import FormatStrFormatter\n",
        "\n",
        "# Open and read the input file\n",
        "file_path = \"bbr.tr\"  # Replace with the actual path if running locally or in Colab\n",
        "with open(file_path, \"r\") as file:\n",
        "    lines = file.readlines()\n",
        "\n",
        "# Initialize data storage\n",
        "bdp = []\n",
        "timev = []\n",
        "cwndgainv = []\n",
        "rtpropv = []\n",
        "btlbwv = []\n",
        "pacinggainv = []\n",
        "pacingratev = []\n",
        "inflightv = []\n",
        "\n",
        "modes = []\n",
        "lastmode = \"\"\n",
        "\n",
        "# Parse the input lines\n",
        "for line in lines:\n",
        "    if \"ack\" in line.lower():\n",
        "        parts = line.split()\n",
        "        try:\n",
        "            timestamp = float(parts[0])\n",
        "            BtlBw = float(parts[7])\n",
        "            RTprop = float(parts[8])\n",
        "            pacing_gain = float(parts[9])\n",
        "            cwnd_gain = float(parts[10])\n",
        "            pacing_rate = float(parts[11])\n",
        "            inflight = float(parts[12])\n",
        "            mode = parts[13]\n",
        "\n",
        "            bdp.append(BtlBw * RTprop)\n",
        "\n",
        "            if lastmode != mode:\n",
        "                modes.append(timestamp)\n",
        "                print(f\"{timestamp} MODE: {mode}\")\n",
        "                lastmode = mode\n",
        "\n",
        "            timev.append(timestamp)\n",
        "            cwndgainv.append(cwnd_gain)\n",
        "            rtpropv.append(RTprop)\n",
        "            btlbwv.append(BtlBw)\n",
        "            pacinggainv.append(pacing_gain)\n",
        "            pacingratev.append(pacing_rate)\n",
        "            inflightv.append(inflight)\n",
        "        except (IndexError, ValueError):\n",
        "            continue\n",
        "\n",
        "# Create the plots\n",
        "plt.figure(figsize=(24, 16))\n",
        "\n",
        "# RTprop Plot\n",
        "ax = plt.subplot(221)\n",
        "ax.plot(timev, rtpropv)\n",
        "for mode in modes:\n",
        "    ax.axvline(mode, c='grey', label='status')\n",
        "ax.set_title(\"RTProp\")\n",
        "ax.set_ylim(0, 1)\n",
        "\n",
        "# BDP/Inflight Plot\n",
        "ax = plt.subplot(222)\n",
        "ax.set_title(\"BDP/INFLIGHT\")\n",
        "if bdp and inflightv:\n",
        "    ax.text(timev[5], bdp[5], r'BDP', fontsize=10, color=\"red\", verticalalignment='bottom', horizontalalignment='left')\n",
        "    ax.text(timev[10], inflightv[10], r'INFLIGHT', fontsize=10, color=\"green\", verticalalignment='bottom', horizontalalignment='right')\n",
        "ax.plot(timev, bdp, c=\"red\")\n",
        "ax.plot(timev, inflightv, c=\"green\")\n",
        "ylimv = max(max(bdp), max(inflightv)) * 1.5 if bdp and inflightv else 1\n",
        "ax.set_ylim(0, ylimv)\n",
        "ax.yaxis.set_major_formatter(FormatStrFormatter('%.2f'))\n",
        "for mode in modes:\n",
        "    plt.axvline(mode, c='grey', label='status')\n",
        "\n",
        "# BtlBw Plot\n",
        "ax = plt.subplot(223)\n",
        "ax.set_title(\"BTlBw\")\n",
        "ax.set_ylabel(\"MBytes\")\n",
        "ax.plot(timev, btlbwv, c=\"green\")\n",
        "ax.yaxis.set_major_formatter(FormatStrFormatter('%.2f'))\n",
        "for mode in modes:\n",
        "    plt.axvline(mode, c='grey', label='status')\n",
        "\n",
        "# Gain Plot\n",
        "ax = plt.subplot(224)\n",
        "ax.set_title(\"GAIN\")\n",
        "ax.plot(timev, pacinggainv)\n",
        "for mode in modes:\n",
        "    plt.axvline(mode, c='grey', label='status')\n",
        "ax.set_ylim(0.5, 3)\n",
        "\n",
        "plt.tight_layout()\n",
        "\n",
        "# Save the plot\n",
        "plt.savefig('results.png')\n",
        "\n",
        "# Display the plot\n",
        "plt.show()\n"
      ],
      "metadata": {
        "id": "0eLq2kJFjuaJ"
      },
      "execution_count": 7,
      "outputs": []
    },
    {
      "cell_type": "code",
      "source": [
        "from google.colab import files\n",
        "files.download('results.png')\n"
      ],
      "metadata": {
        "colab": {
          "base_uri": "https://localhost:8080/",
          "height": 17
        },
        "id": "vscApyClj9gA",
        "outputId": "07dc830e-fffb-4114-a64b-bd9e15fe72e2"
      },
      "execution_count": 9,
      "outputs": [
        {
          "output_type": "display_data",
          "data": {
            "text/plain": [
              "<IPython.core.display.Javascript object>"
            ],
            "application/javascript": [
              "\n",
              "    async function download(id, filename, size) {\n",
              "      if (!google.colab.kernel.accessAllowed) {\n",
              "        return;\n",
              "      }\n",
              "      const div = document.createElement('div');\n",
              "      const label = document.createElement('label');\n",
              "      label.textContent = `Downloading \"${filename}\": `;\n",
              "      div.appendChild(label);\n",
              "      const progress = document.createElement('progress');\n",
              "      progress.max = size;\n",
              "      div.appendChild(progress);\n",
              "      document.body.appendChild(div);\n",
              "\n",
              "      const buffers = [];\n",
              "      let downloaded = 0;\n",
              "\n",
              "      const channel = await google.colab.kernel.comms.open(id);\n",
              "      // Send a message to notify the kernel that we're ready.\n",
              "      channel.send({})\n",
              "\n",
              "      for await (const message of channel.messages) {\n",
              "        // Send a message to notify the kernel that we're ready.\n",
              "        channel.send({})\n",
              "        if (message.buffers) {\n",
              "          for (const buffer of message.buffers) {\n",
              "            buffers.push(buffer);\n",
              "            downloaded += buffer.byteLength;\n",
              "            progress.value = downloaded;\n",
              "          }\n",
              "        }\n",
              "      }\n",
              "      const blob = new Blob(buffers, {type: 'application/binary'});\n",
              "      const a = document.createElement('a');\n",
              "      a.href = window.URL.createObjectURL(blob);\n",
              "      a.download = filename;\n",
              "      div.appendChild(a);\n",
              "      a.click();\n",
              "      div.remove();\n",
              "    }\n",
              "  "
            ]
          },
          "metadata": {}
        },
        {
          "output_type": "display_data",
          "data": {
            "text/plain": [
              "<IPython.core.display.Javascript object>"
            ],
            "application/javascript": [
              "download(\"download_3ac5b136-ddb7-44fc-a53e-f544aa0d0973\", \"results.png\", 43373)"
            ]
          },
          "metadata": {}
        }
      ]
    },
    {
      "cell_type": "code",
      "source": [
        "import matplotlib as mpl\n",
        "mpl.use('Agg')\n",
        "\n",
        "import matplotlib.pyplot as plt\n",
        "from matplotlib.ticker import FormatStrFormatter\n",
        "import sys\n",
        "\n",
        "# Open and read the input file\n",
        "file_path = \"bbr.tr\"\n",
        "with open(file_path, \"r\") as file:\n",
        "    lines = file.readlines()\n",
        "\n",
        "# Initialize data storage\n",
        "bdp = []\n",
        "timev = []\n",
        "cwndgainv = []\n",
        "rtpropv = []\n",
        "btlbwv = []\n",
        "pacinggainv = []\n",
        "pacingratev = []\n",
        "inflightv = []\n",
        "\n",
        "modes = []\n",
        "lastmode = \"\"\n",
        "\n",
        "# Parse the input lines\n",
        "for line in lines:\n",
        "    # Extract only lines with \"ack\" or \"ACK\"\n",
        "    if \"ack\" in line.lower():\n",
        "        parts = line.split()\n",
        "        try:\n",
        "            timestamp = float(parts[0])\n",
        "            BtlBw = float(parts[7])\n",
        "            RTprop = float(parts[8])\n",
        "            pacing_gain = float(parts[9])\n",
        "            cwnd_gain = float(parts[10])\n",
        "            pacing_rate = float(parts[11])\n",
        "            inflight = float(parts[12])\n",
        "            mode = parts[13]\n",
        "\n",
        "            bdp.append(BtlBw * RTprop)\n",
        "\n",
        "            if lastmode != mode:\n",
        "                modes.append(timestamp)\n",
        "                print(f\"{timestamp} MODE: {mode}\")\n",
        "                lastmode = mode\n",
        "\n",
        "            timev.append(timestamp)\n",
        "            cwndgainv.append(cwnd_gain)\n",
        "            rtpropv.append(RTprop)\n",
        "            btlbwv.append(BtlBw)\n",
        "            pacinggainv.append(pacing_gain)\n",
        "            pacingratev.append(pacing_rate)\n",
        "            inflightv.append(inflight)\n",
        "        except (IndexError, ValueError):\n",
        "            # Skip lines that don't match the expected format\n",
        "            continue\n",
        "\n",
        "# Create the plots\n",
        "plt.figure(figsize=(24, 16))\n",
        "\n",
        "# RTprop Plot\n",
        "ax = plt.subplot(221)\n",
        "ax.plot(timev, rtpropv)\n",
        "for mode in modes:\n",
        "    ax.axvline(mode, c='grey', label='status')\n",
        "ax.set_title(\"RTProp\")\n",
        "ax.set_ylim(0, 1)\n",
        "\n",
        "# BDP/Inflight Plot\n",
        "ax = plt.subplot(222)\n",
        "ax.set_title(\"BDP/INFLIGHT\")\n",
        "if bdp and inflightv:\n",
        "    ax.text(timev[5], bdp[5], r'BDP', fontsize=10, color=\"red\", verticalalignment='bottom', horizontalalignment='left')\n",
        "    ax.text(timev[10], inflightv[10], r'INFLIGHT', fontsize=10, color=\"green\", verticalalignment='bottom', horizontalalignment='right')\n",
        "ax.plot(timev, bdp, c=\"red\")\n",
        "ax.plot(timev, inflightv, c=\"green\")\n",
        "ylimv = max(max(bdp), max(inflightv)) * 1.5 if bdp and inflightv else 1\n",
        "ax.set_ylim(0, ylimv)\n",
        "ax.yaxis.set_major_formatter(FormatStrFormatter('%.2f'))\n",
        "for mode in modes:\n",
        "    plt.axvline(mode, c='grey', label='status')\n",
        "\n",
        "# BtlBw Plot\n",
        "ax = plt.subplot(223)\n",
        "ax.set_title(\"BTlBw\")\n",
        "ax.set_ylabel(\"MBytes\")\n",
        "ax.plot(timev, btlbwv, c=\"green\")\n",
        "ax.yaxis.set_major_formatter(FormatStrFormatter('%.2f'))\n",
        "for mode in modes:\n",
        "    plt.axvline(mode, c='grey', label='status')\n",
        "\n",
        "# Gain Plot\n",
        "ax = plt.subplot(224)\n",
        "ax.set_title(\"GAIN\")\n",
        "ax.plot(timev, pacinggainv)\n",
        "for mode in modes:\n",
        "    plt.axvline(mode, c='grey', label='status')\n",
        "ax.set_ylim(0.5, 3)\n",
        "\n",
        "plt.tight_layout()\n",
        "plt.savefig('results.png')\n",
        "plt.close()\n"
      ],
      "metadata": {
        "id": "nN6Uza5hhiO_"
      },
      "execution_count": 11,
      "outputs": []
    },
    {
      "cell_type": "code",
      "source": [
        "from google.colab import files\n",
        "files.download('results.png')\n"
      ],
      "metadata": {
        "colab": {
          "base_uri": "https://localhost:8080/",
          "height": 17
        },
        "id": "2HTNubaInuzg",
        "outputId": "f5f8b011-5a3e-45b3-d066-7b9178c6aa10"
      },
      "execution_count": 12,
      "outputs": [
        {
          "output_type": "display_data",
          "data": {
            "text/plain": [
              "<IPython.core.display.Javascript object>"
            ],
            "application/javascript": [
              "\n",
              "    async function download(id, filename, size) {\n",
              "      if (!google.colab.kernel.accessAllowed) {\n",
              "        return;\n",
              "      }\n",
              "      const div = document.createElement('div');\n",
              "      const label = document.createElement('label');\n",
              "      label.textContent = `Downloading \"${filename}\": `;\n",
              "      div.appendChild(label);\n",
              "      const progress = document.createElement('progress');\n",
              "      progress.max = size;\n",
              "      div.appendChild(progress);\n",
              "      document.body.appendChild(div);\n",
              "\n",
              "      const buffers = [];\n",
              "      let downloaded = 0;\n",
              "\n",
              "      const channel = await google.colab.kernel.comms.open(id);\n",
              "      // Send a message to notify the kernel that we're ready.\n",
              "      channel.send({})\n",
              "\n",
              "      for await (const message of channel.messages) {\n",
              "        // Send a message to notify the kernel that we're ready.\n",
              "        channel.send({})\n",
              "        if (message.buffers) {\n",
              "          for (const buffer of message.buffers) {\n",
              "            buffers.push(buffer);\n",
              "            downloaded += buffer.byteLength;\n",
              "            progress.value = downloaded;\n",
              "          }\n",
              "        }\n",
              "      }\n",
              "      const blob = new Blob(buffers, {type: 'application/binary'});\n",
              "      const a = document.createElement('a');\n",
              "      a.href = window.URL.createObjectURL(blob);\n",
              "      a.download = filename;\n",
              "      div.appendChild(a);\n",
              "      a.click();\n",
              "      div.remove();\n",
              "    }\n",
              "  "
            ]
          },
          "metadata": {}
        },
        {
          "output_type": "display_data",
          "data": {
            "text/plain": [
              "<IPython.core.display.Javascript object>"
            ],
            "application/javascript": [
              "download(\"download_b7e4c7b3-de30-4255-a4f5-40cfc55774b8\", \"results.png\", 43373)"
            ]
          },
          "metadata": {}
        }
      ]
    },
    {
      "cell_type": "markdown",
      "source": [],
      "metadata": {
        "id": "8SLwMGtununZ"
      }
    }
  ]
}