{
  "nbformat": 4,
  "nbformat_minor": 0,
  "metadata": {
    "colab": {
      "provenance": [],
      "authorship_tag": "ABX9TyP/lcTg3d73w1b10pB/DYze",
      "include_colab_link": true
    },
    "kernelspec": {
      "name": "python3",
      "display_name": "Python 3"
    },
    "language_info": {
      "name": "python"
    }
  },
  "cells": [
    {
      "cell_type": "markdown",
      "metadata": {
        "id": "view-in-github",
        "colab_type": "text"
      },
      "source": [
        "<a href=\"https://colab.research.google.com/github/mohsenSarvariHero/PythonFirst/blob/main/Untitled5.ipynb\" target=\"_parent\"><img src=\"https://colab.research.google.com/assets/colab-badge.svg\" alt=\"Open In Colab\"/></a>"
      ]
    },
    {
      "cell_type": "code",
      "execution_count": 1,
      "metadata": {
        "colab": {
          "base_uri": "https://localhost:8080/"
        },
        "id": "S9oRz1lttoGx",
        "outputId": "f40ed396-e6de-497e-8833-d1a86f2084d1"
      },
      "outputs": [
        {
          "output_type": "stream",
          "name": "stdout",
          "text": [
            "welcome to another section 26/7/1403\n"
          ]
        }
      ],
      "source": [
        "print(\"welcome to another section 26/7/1403\")"
      ]
    },
    {
      "cell_type": "code",
      "source": [
        " num = 5\n",
        "\n",
        " print( \"positive\" if num > 0 else \"negative\")\n"
      ],
      "metadata": {
        "colab": {
          "base_uri": "https://localhost:8080/"
        },
        "id": "G9Z-gDHRziJa",
        "outputId": "1853f7b8-8333-4b6a-86ad-477b44dbeded"
      },
      "execution_count": 4,
      "outputs": [
        {
          "output_type": "stream",
          "name": "stdout",
          "text": [
            "positive\n"
          ]
        }
      ]
    },
    {
      "cell_type": "code",
      "source": [
        "num = 11\n",
        "\n",
        "result = \"Even\" if num%2 == 0 else \"ODD\"\n",
        "print(result)"
      ],
      "metadata": {
        "colab": {
          "base_uri": "https://localhost:8080/"
        },
        "id": "LgyK5Boo2o6W",
        "outputId": "cbd3804e-80df-4d56-d884-b076e0a0d8b6"
      },
      "execution_count": 6,
      "outputs": [
        {
          "output_type": "stream",
          "name": "stdout",
          "text": [
            "ODD\n"
          ]
        }
      ]
    },
    {
      "cell_type": "code",
      "source": [
        "a = 8\n",
        "b = 12\n",
        "\n",
        "max_num = a if a>b else b\n",
        "print(max_num)"
      ],
      "metadata": {
        "colab": {
          "base_uri": "https://localhost:8080/"
        },
        "id": "ICqQ3jnC24eN",
        "outputId": "8e297044-b994-48e2-a0bc-354e63907734"
      },
      "execution_count": 10,
      "outputs": [
        {
          "output_type": "stream",
          "name": "stdout",
          "text": [
            "12\n"
          ]
        }
      ]
    },
    {
      "cell_type": "code",
      "source": [
        "temp = 15\n",
        "\n",
        "status = \"Hot\" if temp > 27 else \"cold\"\n",
        "print(status)"
      ],
      "metadata": {
        "colab": {
          "base_uri": "https://localhost:8080/"
        },
        "id": "6XvStdpC33uw",
        "outputId": "f1ccc022-7519-42f2-eb5a-342c308ffb66"
      },
      "execution_count": 12,
      "outputs": [
        {
          "output_type": "stream",
          "name": "stdout",
          "text": [
            "cold\n"
          ]
        }
      ]
    },
    {
      "cell_type": "code",
      "source": [
        "#validate user input\n",
        "\n",
        "user_input = input(\"enter your name please : \")\n",
        "\n",
        "length = len(user_input)\n",
        "spaces = user_input.find(\" \")\n",
        "alphas = user_input.isalpha()\n",
        "\n",
        "if length > 12:\n",
        "  print(\"must be less 12 characters\")\n",
        "elif spaces!= -1 :\n",
        "  print(\"not spaces in your input\")\n",
        "elif not alphas:\n",
        "  print (\"not digts in your input\")\n",
        "else:\n",
        "  print(f\"that your input name {user_input} less than 12 characters and no have spaces and no have digits , perfect\")"
      ],
      "metadata": {
        "colab": {
          "base_uri": "https://localhost:8080/"
        },
        "id": "TsX5rADS6IAF",
        "outputId": "ae8d83dd-868a-4e12-8cf1-060078a7f3f6"
      },
      "execution_count": 26,
      "outputs": [
        {
          "output_type": "stream",
          "name": "stdout",
          "text": [
            "enter your name please : mohsens\n",
            "that your input name mohsens less than 12 characters and no have spaces and no have digits , perfect\n"
          ]
        }
      ]
    }
  ]
}